{
 "cells": [
  {
   "cell_type": "markdown",
   "id": "cba584c9-962a-4cb1-af73-230cfadbe8dc",
   "metadata": {},
   "source": [
    "# Импортируем модуль"
   ]
  },
  {
   "cell_type": "code",
   "execution_count": 3,
   "id": "9345330c-72a1-4280-9d8c-73b6e8973f47",
   "metadata": {},
   "outputs": [],
   "source": [
    "from movielens_analysis import Links, Movies, Ratings, Tags"
   ]
  },
  {
   "cell_type": "markdown",
   "id": "f668c882-fb63-44ac-a646-819c26ca6fc3",
   "metadata": {},
   "source": [
    "# Загружаем данные"
   ]
  },
  {
   "cell_type": "code",
   "execution_count": 4,
   "id": "fd583c27-9192-483a-8a17-9ef7e68a1ca9",
   "metadata": {
    "scrolled": true
   },
   "outputs": [
    {
     "name": "stdout",
     "output_type": "stream",
     "text": [
      "Ошибка при запросе к IMDb для фильма 1: HTTPSConnectionPool(host='www.imdb.com', port=443): Max retries exceeded with url: /title/tt0114709/ (Caused by ConnectTimeoutError(<urllib3.connection.HTTPSConnection object at 0x00000180CD859450>, 'Connection to www.imdb.com timed out. (connect timeout=5)'))\n"
     ]
    },
    {
     "data": {
      "text/plain": [
       "[{'userId': '1', 'movieId': '1', 'rating': '4.0', 'timestamp': '964982703'},\n",
       " {'userId': '1', 'movieId': '3', 'rating': '4.0', 'timestamp': '964981247'},\n",
       " {'userId': '1', 'movieId': '6', 'rating': '4.0', 'timestamp': '964982224'},\n",
       " {'userId': '1', 'movieId': '47', 'rating': '5.0', 'timestamp': '964983815'},\n",
       " {'userId': '1', 'movieId': '50', 'rating': '5.0', 'timestamp': '964982931'},\n",
       " {'userId': '1', 'movieId': '70', 'rating': '3.0', 'timestamp': '964982400'},\n",
       " {'userId': '1', 'movieId': '101', 'rating': '5.0', 'timestamp': '964980868'},\n",
       " {'userId': '1', 'movieId': '110', 'rating': '4.0', 'timestamp': '964982176'},\n",
       " {'userId': '1', 'movieId': '151', 'rating': '5.0', 'timestamp': '964984041'},\n",
       " {'userId': '1', 'movieId': '157', 'rating': '5.0', 'timestamp': '964984100'},\n",
       " {'userId': '1', 'movieId': '163', 'rating': '5.0', 'timestamp': '964983650'},\n",
       " {'userId': '1', 'movieId': '216', 'rating': '5.0', 'timestamp': '964981208'},\n",
       " {'userId': '1', 'movieId': '223', 'rating': '3.0', 'timestamp': '964980985'},\n",
       " {'userId': '1', 'movieId': '231', 'rating': '5.0', 'timestamp': '964981179'},\n",
       " {'userId': '1', 'movieId': '235', 'rating': '4.0', 'timestamp': '964980908'},\n",
       " {'userId': '1', 'movieId': '260', 'rating': '5.0', 'timestamp': '964981680'},\n",
       " {'userId': '1', 'movieId': '296', 'rating': '3.0', 'timestamp': '964982967'},\n",
       " {'userId': '1', 'movieId': '316', 'rating': '3.0', 'timestamp': '964982310'},\n",
       " {'userId': '1', 'movieId': '333', 'rating': '5.0', 'timestamp': '964981179'},\n",
       " {'userId': '1', 'movieId': '349', 'rating': '4.0', 'timestamp': '964982563'},\n",
       " {'userId': '1', 'movieId': '356', 'rating': '4.0', 'timestamp': '964980962'},\n",
       " {'userId': '1', 'movieId': '362', 'rating': '5.0', 'timestamp': '964982588'},\n",
       " {'userId': '1', 'movieId': '367', 'rating': '4.0', 'timestamp': '964981710'},\n",
       " {'userId': '1', 'movieId': '423', 'rating': '3.0', 'timestamp': '964982363'},\n",
       " {'userId': '1', 'movieId': '441', 'rating': '4.0', 'timestamp': '964980868'},\n",
       " {'userId': '1', 'movieId': '457', 'rating': '5.0', 'timestamp': '964981909'},\n",
       " {'userId': '1', 'movieId': '480', 'rating': '4.0', 'timestamp': '964982346'},\n",
       " {'userId': '1', 'movieId': '500', 'rating': '3.0', 'timestamp': '964981208'},\n",
       " {'userId': '1', 'movieId': '527', 'rating': '5.0', 'timestamp': '964984002'},\n",
       " {'userId': '1', 'movieId': '543', 'rating': '4.0', 'timestamp': '964981179'},\n",
       " {'userId': '1', 'movieId': '552', 'rating': '4.0', 'timestamp': '964982653'},\n",
       " {'userId': '1', 'movieId': '553', 'rating': '5.0', 'timestamp': '964984153'},\n",
       " {'userId': '1', 'movieId': '590', 'rating': '4.0', 'timestamp': '964982546'},\n",
       " {'userId': '1', 'movieId': '592', 'rating': '4.0', 'timestamp': '964982271'},\n",
       " {'userId': '1', 'movieId': '593', 'rating': '4.0', 'timestamp': '964983793'},\n",
       " {'userId': '1', 'movieId': '596', 'rating': '5.0', 'timestamp': '964982838'},\n",
       " {'userId': '1', 'movieId': '608', 'rating': '5.0', 'timestamp': '964982931'},\n",
       " {'userId': '1', 'movieId': '648', 'rating': '3.0', 'timestamp': '964982563'},\n",
       " {'userId': '1', 'movieId': '661', 'rating': '5.0', 'timestamp': '964982838'},\n",
       " {'userId': '1', 'movieId': '673', 'rating': '3.0', 'timestamp': '964981775'},\n",
       " {'userId': '1', 'movieId': '733', 'rating': '4.0', 'timestamp': '964982400'},\n",
       " {'userId': '1', 'movieId': '736', 'rating': '3.0', 'timestamp': '964982653'},\n",
       " {'userId': '1', 'movieId': '780', 'rating': '3.0', 'timestamp': '964984086'},\n",
       " {'userId': '1', 'movieId': '804', 'rating': '4.0', 'timestamp': '964980499'},\n",
       " {'userId': '1', 'movieId': '919', 'rating': '5.0', 'timestamp': '964982475'},\n",
       " {'userId': '1', 'movieId': '923', 'rating': '5.0', 'timestamp': '964981529'},\n",
       " {'userId': '1', 'movieId': '940', 'rating': '5.0', 'timestamp': '964982176'},\n",
       " {'userId': '1', 'movieId': '943', 'rating': '4.0', 'timestamp': '964983614'},\n",
       " {'userId': '1', 'movieId': '954', 'rating': '5.0', 'timestamp': '964983219'},\n",
       " {'userId': '1', 'movieId': '1009', 'rating': '3.0', 'timestamp': '964981775'},\n",
       " {'userId': '1', 'movieId': '1023', 'rating': '5.0', 'timestamp': '964982681'},\n",
       " {'userId': '1', 'movieId': '1024', 'rating': '5.0', 'timestamp': '964982876'},\n",
       " {'userId': '1', 'movieId': '1025', 'rating': '5.0', 'timestamp': '964982791'},\n",
       " {'userId': '1', 'movieId': '1029', 'rating': '5.0', 'timestamp': '964982855'},\n",
       " {'userId': '1', 'movieId': '1030', 'rating': '3.0', 'timestamp': '964982903'},\n",
       " {'userId': '1', 'movieId': '1031', 'rating': '5.0', 'timestamp': '964982653'},\n",
       " {'userId': '1', 'movieId': '1032', 'rating': '5.0', 'timestamp': '964982791'},\n",
       " {'userId': '1', 'movieId': '1042', 'rating': '4.0', 'timestamp': '964981179'},\n",
       " {'userId': '1', 'movieId': '1049', 'rating': '5.0', 'timestamp': '964982400'},\n",
       " {'userId': '1', 'movieId': '1060', 'rating': '4.0', 'timestamp': '964980924'},\n",
       " {'userId': '1', 'movieId': '1073', 'rating': '5.0', 'timestamp': '964981680'},\n",
       " {'userId': '1', 'movieId': '1080', 'rating': '5.0', 'timestamp': '964981327'},\n",
       " {'userId': '1', 'movieId': '1089', 'rating': '5.0', 'timestamp': '964982951'},\n",
       " {'userId': '1', 'movieId': '1090', 'rating': '4.0', 'timestamp': '964984018'},\n",
       " {'userId': '1', 'movieId': '1092', 'rating': '5.0', 'timestamp': '964983484'},\n",
       " {'userId': '1', 'movieId': '1097', 'rating': '5.0', 'timestamp': '964981680'},\n",
       " {'userId': '1', 'movieId': '1127', 'rating': '4.0', 'timestamp': '964982513'},\n",
       " {'userId': '1', 'movieId': '1136', 'rating': '5.0', 'timestamp': '964981327'},\n",
       " {'userId': '1', 'movieId': '1196', 'rating': '5.0', 'timestamp': '964981827'},\n",
       " {'userId': '1', 'movieId': '1197', 'rating': '5.0', 'timestamp': '964981872'},\n",
       " {'userId': '1', 'movieId': '1198', 'rating': '5.0', 'timestamp': '964981827'},\n",
       " {'userId': '1', 'movieId': '1206', 'rating': '5.0', 'timestamp': '964983737'},\n",
       " {'userId': '1', 'movieId': '1208', 'rating': '4.0', 'timestamp': '964983250'},\n",
       " {'userId': '1', 'movieId': '1210', 'rating': '5.0', 'timestamp': '964980499'},\n",
       " {'userId': '1', 'movieId': '1213', 'rating': '5.0', 'timestamp': '964982951'},\n",
       " {'userId': '1', 'movieId': '1214', 'rating': '4.0', 'timestamp': '964981855'},\n",
       " {'userId': '1', 'movieId': '1219', 'rating': '2.0', 'timestamp': '964983393'},\n",
       " {'userId': '1', 'movieId': '1220', 'rating': '5.0', 'timestamp': '964981909'},\n",
       " {'userId': '1', 'movieId': '1222', 'rating': '5.0', 'timestamp': '964981909'},\n",
       " {'userId': '1', 'movieId': '1224', 'rating': '5.0', 'timestamp': '964984018'},\n",
       " {'userId': '1', 'movieId': '1226', 'rating': '5.0', 'timestamp': '964983618'},\n",
       " {'userId': '1', 'movieId': '1240', 'rating': '5.0', 'timestamp': '964983723'},\n",
       " {'userId': '1', 'movieId': '1256', 'rating': '5.0', 'timestamp': '964981442'},\n",
       " {'userId': '1', 'movieId': '1258', 'rating': '3.0', 'timestamp': '964983414'},\n",
       " {'userId': '1', 'movieId': '1265', 'rating': '4.0', 'timestamp': '964983599'},\n",
       " {'userId': '1', 'movieId': '1270', 'rating': '5.0', 'timestamp': '964983705'},\n",
       " {'userId': '1', 'movieId': '1275', 'rating': '5.0', 'timestamp': '964982290'},\n",
       " {'userId': '1', 'movieId': '1278', 'rating': '5.0', 'timestamp': '964983414'},\n",
       " {'userId': '1', 'movieId': '1282', 'rating': '5.0', 'timestamp': '964982703'},\n",
       " {'userId': '1', 'movieId': '1291', 'rating': '5.0', 'timestamp': '964981909'},\n",
       " {'userId': '1', 'movieId': '1298', 'rating': '5.0', 'timestamp': '964984086'},\n",
       " {'userId': '1', 'movieId': '1348', 'rating': '4.0', 'timestamp': '964983393'},\n",
       " {'userId': '1', 'movieId': '1377', 'rating': '3.0', 'timestamp': '964982653'},\n",
       " {'userId': '1', 'movieId': '1396', 'rating': '3.0', 'timestamp': '964983017'},\n",
       " {'userId': '1', 'movieId': '1408', 'rating': '3.0', 'timestamp': '964982310'},\n",
       " {'userId': '1', 'movieId': '1445', 'rating': '3.0', 'timestamp': '964984112'},\n",
       " {'userId': '1', 'movieId': '1473', 'rating': '4.0', 'timestamp': '964980875'},\n",
       " {'userId': '1', 'movieId': '1500', 'rating': '4.0', 'timestamp': '964980985'},\n",
       " {'userId': '1', 'movieId': '1517', 'rating': '5.0', 'timestamp': '964981107'},\n",
       " {'userId': '1', 'movieId': '1552', 'rating': '4.0', 'timestamp': '964982620'},\n",
       " {'userId': '1', 'movieId': '1573', 'rating': '5.0', 'timestamp': '964982290'},\n",
       " {'userId': '1', 'movieId': '1580', 'rating': '3.0', 'timestamp': '964981125'},\n",
       " {'userId': '1', 'movieId': '1587', 'rating': '5.0', 'timestamp': '964982346'},\n",
       " {'userId': '1', 'movieId': '1617', 'rating': '5.0', 'timestamp': '964982951'},\n",
       " {'userId': '1', 'movieId': '1620', 'rating': '4.0', 'timestamp': '964983056'},\n",
       " {'userId': '1', 'movieId': '1625', 'rating': '5.0', 'timestamp': '964983504'},\n",
       " {'userId': '1', 'movieId': '1644', 'rating': '3.0', 'timestamp': '964983536'},\n",
       " {'userId': '1', 'movieId': '1676', 'rating': '3.0', 'timestamp': '964982620'},\n",
       " {'userId': '1', 'movieId': '1732', 'rating': '5.0', 'timestamp': '964981125'},\n",
       " {'userId': '1', 'movieId': '1777', 'rating': '4.0', 'timestamp': '964981230'},\n",
       " {'userId': '1', 'movieId': '1793', 'rating': '4.0', 'timestamp': '964981404'},\n",
       " {'userId': '1', 'movieId': '1804', 'rating': '5.0', 'timestamp': '964983034'},\n",
       " {'userId': '1', 'movieId': '1805', 'rating': '4.0', 'timestamp': '964983056'},\n",
       " {'userId': '1', 'movieId': '1920', 'rating': '4.0', 'timestamp': '964981780'},\n",
       " {'userId': '1', 'movieId': '1927', 'rating': '5.0', 'timestamp': '964981497'},\n",
       " {'userId': '1', 'movieId': '1954', 'rating': '5.0', 'timestamp': '964982176'},\n",
       " {'userId': '1', 'movieId': '1967', 'rating': '4.0', 'timestamp': '964981710'},\n",
       " {'userId': '1', 'movieId': '2000', 'rating': '4.0', 'timestamp': '964982211'},\n",
       " {'userId': '1', 'movieId': '2005', 'rating': '5.0', 'timestamp': '964981710'},\n",
       " {'userId': '1', 'movieId': '2012', 'rating': '4.0', 'timestamp': '964984176'},\n",
       " {'userId': '1', 'movieId': '2018', 'rating': '5.0', 'timestamp': '964980523'},\n",
       " {'userId': '1', 'movieId': '2028', 'rating': '4.0', 'timestamp': '964981888'},\n",
       " {'userId': '1', 'movieId': '2033', 'rating': '5.0', 'timestamp': '964982903'},\n",
       " {'userId': '1', 'movieId': '2046', 'rating': '4.0', 'timestamp': '964982563'},\n",
       " {'userId': '1', 'movieId': '2048', 'rating': '5.0', 'timestamp': '964982791'},\n",
       " {'userId': '1', 'movieId': '2054', 'rating': '4.0', 'timestamp': '964981747'},\n",
       " {'userId': '1', 'movieId': '2058', 'rating': '5.0', 'timestamp': '964982400'},\n",
       " {'userId': '1', 'movieId': '2078', 'rating': '5.0', 'timestamp': '964982838'},\n",
       " {'userId': '1', 'movieId': '2090', 'rating': '5.0', 'timestamp': '964982838'},\n",
       " {'userId': '1', 'movieId': '2093', 'rating': '3.0', 'timestamp': '964981710'},\n",
       " {'userId': '1', 'movieId': '2094', 'rating': '5.0', 'timestamp': '964982653'},\n",
       " {'userId': '1', 'movieId': '2096', 'rating': '4.0', 'timestamp': '964982838'},\n",
       " {'userId': '1', 'movieId': '2099', 'rating': '4.0', 'timestamp': '964982588'},\n",
       " {'userId': '1', 'movieId': '2105', 'rating': '4.0', 'timestamp': '964981725'},\n",
       " {'userId': '1', 'movieId': '2115', 'rating': '5.0', 'timestamp': '964982529'},\n",
       " {'userId': '1', 'movieId': '2116', 'rating': '5.0', 'timestamp': '964982876'},\n",
       " {'userId': '1', 'movieId': '2137', 'rating': '5.0', 'timestamp': '964982791'},\n",
       " {'userId': '1', 'movieId': '2139', 'rating': '5.0', 'timestamp': '964982791'},\n",
       " {'userId': '1', 'movieId': '2141', 'rating': '5.0', 'timestamp': '964982838'},\n",
       " {'userId': '1', 'movieId': '2143', 'rating': '4.0', 'timestamp': '964981725'},\n",
       " {'userId': '1', 'movieId': '2161', 'rating': '5.0', 'timestamp': '964981710'},\n",
       " {'userId': '1', 'movieId': '2174', 'rating': '4.0', 'timestamp': '964981680'},\n",
       " {'userId': '1', 'movieId': '2193', 'rating': '4.0', 'timestamp': '964981710'},\n",
       " {'userId': '1', 'movieId': '2253', 'rating': '2.0', 'timestamp': '964981775'},\n",
       " {'userId': '1', 'movieId': '2268', 'rating': '4.0', 'timestamp': '964982989'},\n",
       " {'userId': '1', 'movieId': '2273', 'rating': '4.0', 'timestamp': '964982310'},\n",
       " {'userId': '1', 'movieId': '2291', 'rating': '5.0', 'timestamp': '964983664'},\n",
       " {'userId': '1', 'movieId': '2329', 'rating': '5.0', 'timestamp': '964983263'},\n",
       " {'userId': '1', 'movieId': '2338', 'rating': '2.0', 'timestamp': '964983546'},\n",
       " {'userId': '1', 'movieId': '2353', 'rating': '5.0', 'timestamp': '964983861'},\n",
       " {'userId': '1', 'movieId': '2366', 'rating': '4.0', 'timestamp': '964982462'},\n",
       " {'userId': '1', 'movieId': '2387', 'rating': '5.0', 'timestamp': '964983123'},\n",
       " {'userId': '1', 'movieId': '2389', 'rating': '2.0', 'timestamp': '964983094'},\n",
       " {'userId': '1', 'movieId': '2395', 'rating': '5.0', 'timestamp': '964981093'},\n",
       " {'userId': '1', 'movieId': '2406', 'rating': '4.0', 'timestamp': '964982310'},\n",
       " {'userId': '1', 'movieId': '2414', 'rating': '3.0', 'timestamp': '964982513'},\n",
       " {'userId': '1', 'movieId': '2427', 'rating': '5.0', 'timestamp': '964982242'},\n",
       " {'userId': '1', 'movieId': '2450', 'rating': '4.0', 'timestamp': '964982620'},\n",
       " {'userId': '1', 'movieId': '2459', 'rating': '5.0', 'timestamp': '964983414'},\n",
       " {'userId': '1', 'movieId': '2470', 'rating': '5.0', 'timestamp': '964982588'},\n",
       " {'userId': '1', 'movieId': '2478', 'rating': '4.0', 'timestamp': '964984169'},\n",
       " {'userId': '1', 'movieId': '2492', 'rating': '4.0', 'timestamp': '965719662'},\n",
       " {'userId': '1', 'movieId': '2502', 'rating': '5.0', 'timestamp': '964981278'},\n",
       " {'userId': '1', 'movieId': '2528', 'rating': '3.0', 'timestamp': '964982328'},\n",
       " {'userId': '1', 'movieId': '2529', 'rating': '5.0', 'timestamp': '964982242'},\n",
       " {'userId': '1', 'movieId': '2542', 'rating': '5.0', 'timestamp': '964981265'},\n",
       " {'userId': '1', 'movieId': '2571', 'rating': '5.0', 'timestamp': '964981888'},\n",
       " {'userId': '1', 'movieId': '2580', 'rating': '5.0', 'timestamp': '964983000'},\n",
       " {'userId': '1', 'movieId': '2596', 'rating': '5.0', 'timestamp': '964981144'},\n",
       " {'userId': '1', 'movieId': '2616', 'rating': '4.0', 'timestamp': '964983080'},\n",
       " {'userId': '1', 'movieId': '2617', 'rating': '2.0', 'timestamp': '964982588'},\n",
       " {'userId': '1', 'movieId': '2628', 'rating': '4.0', 'timestamp': '964980523'},\n",
       " {'userId': '1', 'movieId': '2640', 'rating': '4.0', 'timestamp': '964982377'},\n",
       " {'userId': '1', 'movieId': '2641', 'rating': '5.0', 'timestamp': '964982620'},\n",
       " {'userId': '1', 'movieId': '2644', 'rating': '4.0', 'timestamp': '964983393'},\n",
       " {'userId': '1', 'movieId': '2648', 'rating': '4.0', 'timestamp': '964983414'},\n",
       " {'userId': '1', 'movieId': '2654', 'rating': '5.0', 'timestamp': '964983393'},\n",
       " {'userId': '1', 'movieId': '2657', 'rating': '3.0', 'timestamp': '964983426'},\n",
       " {'userId': '1', 'movieId': '2692', 'rating': '5.0', 'timestamp': '964981855'},\n",
       " {'userId': '1', 'movieId': '2700', 'rating': '5.0', 'timestamp': '964980985'},\n",
       " {'userId': '1', 'movieId': '2716', 'rating': '5.0', 'timestamp': '964983414'},\n",
       " {'userId': '1', 'movieId': '2761', 'rating': '5.0', 'timestamp': '964982703'},\n",
       " {'userId': '1', 'movieId': '2797', 'rating': '4.0', 'timestamp': '964981710'},\n",
       " {'userId': '1', 'movieId': '2826', 'rating': '4.0', 'timestamp': '964980523'},\n",
       " {'userId': '1', 'movieId': '2858', 'rating': '5.0', 'timestamp': '964980868'},\n",
       " {'userId': '1', 'movieId': '2872', 'rating': '5.0', 'timestamp': '964981680'},\n",
       " {'userId': '1', 'movieId': '2899', 'rating': '5.0', 'timestamp': '964982703'},\n",
       " {'userId': '1', 'movieId': '2916', 'rating': '4.0', 'timestamp': '964982290'},\n",
       " {'userId': '1', 'movieId': '2944', 'rating': '5.0', 'timestamp': '964981872'},\n",
       " {'userId': '1', 'movieId': '2947', 'rating': '5.0', 'timestamp': '964982176'},\n",
       " {'userId': '1', 'movieId': '2948', 'rating': '5.0', 'timestamp': '964982191'},\n",
       " {'userId': '1', 'movieId': '2949', 'rating': '5.0', 'timestamp': '964981888'},\n",
       " {'userId': '1', 'movieId': '2959', 'rating': '5.0', 'timestamp': '964983282'},\n",
       " {'userId': '1', 'movieId': '2985', 'rating': '4.0', 'timestamp': '964983034'},\n",
       " {'userId': '1', 'movieId': '2987', 'rating': '5.0', 'timestamp': '964982495'},\n",
       " {'userId': '1', 'movieId': '2991', 'rating': '5.0', 'timestamp': '964982271'},\n",
       " {'userId': '1', 'movieId': '2993', 'rating': '5.0', 'timestamp': '964982242'},\n",
       " {'userId': '1', 'movieId': '2997', 'rating': '4.0', 'timestamp': '964980896'},\n",
       " {'userId': '1', 'movieId': '3033', 'rating': '5.0', 'timestamp': '964983762'},\n",
       " {'userId': '1', 'movieId': '3034', 'rating': '5.0', 'timestamp': '964982791'},\n",
       " {'userId': '1', 'movieId': '3052', 'rating': '5.0', 'timestamp': '964981208'},\n",
       " {'userId': '1', 'movieId': '3053', 'rating': '5.0', 'timestamp': '964984086'},\n",
       " {'userId': '1', 'movieId': '3062', 'rating': '4.0', 'timestamp': '964981872'},\n",
       " {'userId': '1', 'movieId': '3147', 'rating': '5.0', 'timestamp': '964983873'},\n",
       " {'userId': '1', 'movieId': '3168', 'rating': '4.0', 'timestamp': '964982495'},\n",
       " {'userId': '1', 'movieId': '3176', 'rating': '1.0', 'timestamp': '964983504'},\n",
       " {'userId': '1', 'movieId': '3243', 'rating': '3.0', 'timestamp': '964981093'},\n",
       " {'userId': '1', 'movieId': '3247', 'rating': '3.0', 'timestamp': '964983108'},\n",
       " {'userId': '1', 'movieId': '3253', 'rating': '5.0', 'timestamp': '964981107'},\n",
       " {'userId': '1', 'movieId': '3273', 'rating': '5.0', 'timestamp': '964983536'},\n",
       " {'userId': '1', 'movieId': '3386', 'rating': '5.0', 'timestamp': '964983484'},\n",
       " {'userId': '1', 'movieId': '3439', 'rating': '4.0', 'timestamp': '964981799'},\n",
       " {'userId': '1', 'movieId': '3440', 'rating': '4.0', 'timestamp': '964981799'},\n",
       " {'userId': '1', 'movieId': '3441', 'rating': '5.0', 'timestamp': '964982328'},\n",
       " {'userId': '1', 'movieId': '3448', 'rating': '5.0', 'timestamp': '964984054'},\n",
       " {'userId': '1', 'movieId': '3450', 'rating': '5.0', 'timestamp': '964981144'},\n",
       " {'userId': '1', 'movieId': '3479', 'rating': '4.0', 'timestamp': '964981725'},\n",
       " {'userId': '1', 'movieId': '3489', 'rating': '4.0', 'timestamp': '964981775'},\n",
       " {'userId': '1', 'movieId': '3527', 'rating': '4.0', 'timestamp': '964982271'},\n",
       " {'userId': '1', 'movieId': '3578', 'rating': '5.0', 'timestamp': '964980668'},\n",
       " {'userId': '1', 'movieId': '3617', 'rating': '4.0', 'timestamp': '964980683'},\n",
       " {'userId': '1', 'movieId': '3639', 'rating': '4.0', 'timestamp': '964982271'},\n",
       " {'userId': '1', 'movieId': '3671', 'rating': '5.0', 'timestamp': '964981589'},\n",
       " {'userId': '1', 'movieId': '3702', 'rating': '5.0', 'timestamp': '964983737'},\n",
       " {'userId': '1', 'movieId': '3703', 'rating': '5.0', 'timestamp': '964981909'},\n",
       " {'userId': '1', 'movieId': '3729', 'rating': '5.0', 'timestamp': '964982363'},\n",
       " {'userId': '1', 'movieId': '3740', 'rating': '4.0', 'timestamp': '964982417'},\n",
       " {'userId': '1', 'movieId': '3744', 'rating': '4.0', 'timestamp': '964980694'},\n",
       " {'userId': '1', 'movieId': '3793', 'rating': '5.0', 'timestamp': '964981855'},\n",
       " {'userId': '1', 'movieId': '3809', 'rating': '4.0', 'timestamp': '964981220'},\n",
       " {'userId': '1', 'movieId': '4006', 'rating': '4.0', 'timestamp': '964982903'},\n",
       " {'userId': '1', 'movieId': '5060', 'rating': '5.0', 'timestamp': '964984002'},\n",
       " {'userId': '2', 'movieId': '318', 'rating': '3.0', 'timestamp': '1445714835'},\n",
       " {'userId': '2', 'movieId': '333', 'rating': '4.0', 'timestamp': '1445715029'},\n",
       " {'userId': '2',\n",
       "  'movieId': '1704',\n",
       "  'rating': '4.5',\n",
       "  'timestamp': '1445715228'},\n",
       " {'userId': '2',\n",
       "  'movieId': '3578',\n",
       "  'rating': '4.0',\n",
       "  'timestamp': '1445714885'},\n",
       " {'userId': '2',\n",
       "  'movieId': '6874',\n",
       "  'rating': '4.0',\n",
       "  'timestamp': '1445714952'},\n",
       " {'userId': '2',\n",
       "  'movieId': '8798',\n",
       "  'rating': '3.5',\n",
       "  'timestamp': '1445714960'},\n",
       " {'userId': '2',\n",
       "  'movieId': '46970',\n",
       "  'rating': '4.0',\n",
       "  'timestamp': '1445715013'},\n",
       " {'userId': '2',\n",
       "  'movieId': '48516',\n",
       "  'rating': '4.0',\n",
       "  'timestamp': '1445715064'},\n",
       " {'userId': '2',\n",
       "  'movieId': '58559',\n",
       "  'rating': '4.5',\n",
       "  'timestamp': '1445715141'},\n",
       " {'userId': '2',\n",
       "  'movieId': '60756',\n",
       "  'rating': '5.0',\n",
       "  'timestamp': '1445714980'},\n",
       " {'userId': '2',\n",
       "  'movieId': '68157',\n",
       "  'rating': '4.5',\n",
       "  'timestamp': '1445715154'},\n",
       " {'userId': '2',\n",
       "  'movieId': '71535',\n",
       "  'rating': '3.0',\n",
       "  'timestamp': '1445714974'},\n",
       " {'userId': '2',\n",
       "  'movieId': '74458',\n",
       "  'rating': '4.0',\n",
       "  'timestamp': '1445714926'},\n",
       " {'userId': '2',\n",
       "  'movieId': '77455',\n",
       "  'rating': '3.0',\n",
       "  'timestamp': '1445714941'},\n",
       " {'userId': '2',\n",
       "  'movieId': '79132',\n",
       "  'rating': '4.0',\n",
       "  'timestamp': '1445714841'},\n",
       " {'userId': '2',\n",
       "  'movieId': '80489',\n",
       "  'rating': '4.5',\n",
       "  'timestamp': '1445715340'},\n",
       " {'userId': '2',\n",
       "  'movieId': '80906',\n",
       "  'rating': '5.0',\n",
       "  'timestamp': '1445715172'},\n",
       " {'userId': '2',\n",
       "  'movieId': '86345',\n",
       "  'rating': '4.0',\n",
       "  'timestamp': '1445715166'},\n",
       " {'userId': '2',\n",
       "  'movieId': '89774',\n",
       "  'rating': '5.0',\n",
       "  'timestamp': '1445715189'},\n",
       " {'userId': '2',\n",
       "  'movieId': '91529',\n",
       "  'rating': '3.5',\n",
       "  'timestamp': '1445714891'},\n",
       " {'userId': '2',\n",
       "  'movieId': '91658',\n",
       "  'rating': '2.5',\n",
       "  'timestamp': '1445714938'},\n",
       " {'userId': '2',\n",
       "  'movieId': '99114',\n",
       "  'rating': '3.5',\n",
       "  'timestamp': '1445714874'},\n",
       " {'userId': '2',\n",
       "  'movieId': '106782',\n",
       "  'rating': '5.0',\n",
       "  'timestamp': '1445714966'},\n",
       " {'userId': '2',\n",
       "  'movieId': '109487',\n",
       "  'rating': '3.0',\n",
       "  'timestamp': '1445715145'},\n",
       " {'userId': '2',\n",
       "  'movieId': '112552',\n",
       "  'rating': '4.0',\n",
       "  'timestamp': '1445714882'},\n",
       " {'userId': '2',\n",
       "  'movieId': '114060',\n",
       "  'rating': '2.0',\n",
       "  'timestamp': '1445715276'},\n",
       " {'userId': '2',\n",
       "  'movieId': '115713',\n",
       "  'rating': '3.5',\n",
       "  'timestamp': '1445714854'},\n",
       " {'userId': '2',\n",
       "  'movieId': '122882',\n",
       "  'rating': '5.0',\n",
       "  'timestamp': '1445715272'},\n",
       " {'userId': '2',\n",
       "  'movieId': '131724',\n",
       "  'rating': '5.0',\n",
       "  'timestamp': '1445714851'},\n",
       " {'userId': '3', 'movieId': '31', 'rating': '0.5', 'timestamp': '1306463578'},\n",
       " {'userId': '3', 'movieId': '527', 'rating': '0.5', 'timestamp': '1306464275'},\n",
       " {'userId': '3', 'movieId': '647', 'rating': '0.5', 'timestamp': '1306463619'},\n",
       " {'userId': '3', 'movieId': '688', 'rating': '0.5', 'timestamp': '1306464228'},\n",
       " {'userId': '3', 'movieId': '720', 'rating': '0.5', 'timestamp': '1306463595'},\n",
       " {'userId': '3', 'movieId': '849', 'rating': '5.0', 'timestamp': '1306463611'},\n",
       " {'userId': '3', 'movieId': '914', 'rating': '0.5', 'timestamp': '1306463567'},\n",
       " {'userId': '3',\n",
       "  'movieId': '1093',\n",
       "  'rating': '0.5',\n",
       "  'timestamp': '1306463627'},\n",
       " {'userId': '3',\n",
       "  'movieId': '1124',\n",
       "  'rating': '0.5',\n",
       "  'timestamp': '1306464216'},\n",
       " {'userId': '3',\n",
       "  'movieId': '1263',\n",
       "  'rating': '0.5',\n",
       "  'timestamp': '1306463569'},\n",
       " {'userId': '3',\n",
       "  'movieId': '1272',\n",
       "  'rating': '0.5',\n",
       "  'timestamp': '1306463624'},\n",
       " {'userId': '3',\n",
       "  'movieId': '1275',\n",
       "  'rating': '3.5',\n",
       "  'timestamp': '1306463323'},\n",
       " {'userId': '3',\n",
       "  'movieId': '1302',\n",
       "  'rating': '0.5',\n",
       "  'timestamp': '1306464189'},\n",
       " {'userId': '3',\n",
       "  'movieId': '1371',\n",
       "  'rating': '3.0',\n",
       "  'timestamp': '1306463561'},\n",
       " {'userId': '3',\n",
       "  'movieId': '1587',\n",
       "  'rating': '4.5',\n",
       "  'timestamp': '1306464003'},\n",
       " {'userId': '3',\n",
       "  'movieId': '2018',\n",
       "  'rating': '0.5',\n",
       "  'timestamp': '1306464175'},\n",
       " {'userId': '3',\n",
       "  'movieId': '2080',\n",
       "  'rating': '0.5',\n",
       "  'timestamp': '1306463572'},\n",
       " {'userId': '3',\n",
       "  'movieId': '2090',\n",
       "  'rating': '0.5',\n",
       "  'timestamp': '1306464261'},\n",
       " {'userId': '3',\n",
       "  'movieId': '2105',\n",
       "  'rating': '2.0',\n",
       "  'timestamp': '1306463559'},\n",
       " {'userId': '3',\n",
       "  'movieId': '2288',\n",
       "  'rating': '4.0',\n",
       "  'timestamp': '1306463631'},\n",
       " {'userId': '3',\n",
       "  'movieId': '2424',\n",
       "  'rating': '0.5',\n",
       "  'timestamp': '1306464293'},\n",
       " {'userId': '3',\n",
       "  'movieId': '2851',\n",
       "  'rating': '5.0',\n",
       "  'timestamp': '1306463925'},\n",
       " {'userId': '3',\n",
       "  'movieId': '3024',\n",
       "  'rating': '4.5',\n",
       "  'timestamp': '1306464054'},\n",
       " {'userId': '3',\n",
       "  'movieId': '3210',\n",
       "  'rating': '0.5',\n",
       "  'timestamp': '1306463638'},\n",
       " {'userId': '3',\n",
       "  'movieId': '3703',\n",
       "  'rating': '5.0',\n",
       "  'timestamp': '1306463603'},\n",
       " {'userId': '3',\n",
       "  'movieId': '3949',\n",
       "  'rating': '0.5',\n",
       "  'timestamp': '1306464245'},\n",
       " {'userId': '3',\n",
       "  'movieId': '4518',\n",
       "  'rating': '5.0',\n",
       "  'timestamp': '1306463770'},\n",
       " {'userId': '3',\n",
       "  'movieId': '5048',\n",
       "  'rating': '0.5',\n",
       "  'timestamp': '1306464284'},\n",
       " {'userId': '3',\n",
       "  'movieId': '5181',\n",
       "  'rating': '5.0',\n",
       "  'timestamp': '1306463718'},\n",
       " {'userId': '3',\n",
       "  'movieId': '5746',\n",
       "  'rating': '5.0',\n",
       "  'timestamp': '1306463708'},\n",
       " {'userId': '3',\n",
       "  'movieId': '5764',\n",
       "  'rating': '4.5',\n",
       "  'timestamp': '1306464021'},\n",
       " {'userId': '3',\n",
       "  'movieId': '5919',\n",
       "  'rating': '5.0',\n",
       "  'timestamp': '1306463825'},\n",
       " {'userId': '3',\n",
       "  'movieId': '6238',\n",
       "  'rating': '0.5',\n",
       "  'timestamp': '1306464204'},\n",
       " {'userId': '3',\n",
       "  'movieId': '6835',\n",
       "  'rating': '5.0',\n",
       "  'timestamp': '1306463670'},\n",
       " {'userId': '3',\n",
       "  'movieId': '7899',\n",
       "  'rating': '4.5',\n",
       "  'timestamp': '1306464036'},\n",
       " {'userId': '3',\n",
       "  'movieId': '7991',\n",
       "  'rating': '5.0',\n",
       "  'timestamp': '1306463684'},\n",
       " {'userId': '3',\n",
       "  'movieId': '26409',\n",
       "  'rating': '4.5',\n",
       "  'timestamp': '1306463993'},\n",
       " {'userId': '3',\n",
       "  'movieId': '70946',\n",
       "  'rating': '5.0',\n",
       "  'timestamp': '1306463815'},\n",
       " {'userId': '3',\n",
       "  'movieId': '72378',\n",
       "  'rating': '0.5',\n",
       "  'timestamp': '1306464164'},\n",
       " {'userId': '4', 'movieId': '21', 'rating': '3.0', 'timestamp': '986935199'},\n",
       " {'userId': '4', 'movieId': '32', 'rating': '2.0', 'timestamp': '945173447'},\n",
       " {'userId': '4', 'movieId': '45', 'rating': '3.0', 'timestamp': '986935047'},\n",
       " {'userId': '4', 'movieId': '47', 'rating': '2.0', 'timestamp': '945173425'},\n",
       " {'userId': '4', 'movieId': '52', 'rating': '3.0', 'timestamp': '964622786'},\n",
       " {'userId': '4', 'movieId': '58', 'rating': '3.0', 'timestamp': '964538444'},\n",
       " {'userId': '4', 'movieId': '106', 'rating': '4.0', 'timestamp': '986848784'},\n",
       " {'userId': '4', 'movieId': '125', 'rating': '5.0', 'timestamp': '964622758'},\n",
       " {'userId': '4', 'movieId': '126', 'rating': '1.0', 'timestamp': '986848920'},\n",
       " {'userId': '4', 'movieId': '162', 'rating': '5.0', 'timestamp': '945078571'},\n",
       " {'userId': '4', 'movieId': '171', 'rating': '3.0', 'timestamp': '945078428'},\n",
       " {'userId': '4', 'movieId': '176', 'rating': '5.0', 'timestamp': '964622565'},\n",
       " {'userId': '4', 'movieId': '190', 'rating': '2.0', 'timestamp': '945079259'},\n",
       " {'userId': '4', 'movieId': '215', 'rating': '5.0', 'timestamp': '945079078'},\n",
       " {'userId': '4', 'movieId': '222', 'rating': '1.0', 'timestamp': '945629040'},\n",
       " {'userId': '4', 'movieId': '232', 'rating': '5.0', 'timestamp': '964622684'},\n",
       " {'userId': '4', 'movieId': '235', 'rating': '2.0', 'timestamp': '945173513'},\n",
       " {'userId': '4', 'movieId': '247', 'rating': '3.0', 'timestamp': '986848894'},\n",
       " {'userId': '4', 'movieId': '260', 'rating': '5.0', 'timestamp': '945079259'},\n",
       " {'userId': '4', 'movieId': '265', 'rating': '5.0', 'timestamp': '964538468'},\n",
       " {'userId': '4', 'movieId': '296', 'rating': '1.0', 'timestamp': '945173350'},\n",
       " {'userId': '4', 'movieId': '319', 'rating': '5.0', 'timestamp': '945079182'},\n",
       " {'userId': '4', 'movieId': '342', 'rating': '5.0', 'timestamp': '964538500'},\n",
       " {'userId': '4', 'movieId': '345', 'rating': '4.0', 'timestamp': '945629063'},\n",
       " {'userId': '4', 'movieId': '348', 'rating': '4.0', 'timestamp': '964622786'},\n",
       " {'userId': '4', 'movieId': '351', 'rating': '3.0', 'timestamp': '986934901'},\n",
       " {'userId': '4', 'movieId': '357', 'rating': '3.0', 'timestamp': '964623306'},\n",
       " {'userId': '4', 'movieId': '368', 'rating': '4.0', 'timestamp': '945078690'},\n",
       " {'userId': '4', 'movieId': '417', 'rating': '2.0', 'timestamp': '945078467'},\n",
       " {'userId': '4', 'movieId': '441', 'rating': '1.0', 'timestamp': '986934915'},\n",
       " {'userId': '4', 'movieId': '450', 'rating': '2.0', 'timestamp': '986848828'},\n",
       " {'userId': '4', 'movieId': '457', 'rating': '5.0', 'timestamp': '945079259'},\n",
       " {'userId': '4', 'movieId': '475', 'rating': '5.0', 'timestamp': '945174290'},\n",
       " {'userId': '4', 'movieId': '492', 'rating': '5.0', 'timestamp': '945079872'},\n",
       " {'userId': '4', 'movieId': '509', 'rating': '1.0', 'timestamp': '945079106'},\n",
       " {'userId': '4', 'movieId': '538', 'rating': '5.0', 'timestamp': '945078636'},\n",
       " {'userId': '4', 'movieId': '539', 'rating': '1.0', 'timestamp': '964538832'},\n",
       " {'userId': '4', 'movieId': '553', 'rating': '2.0', 'timestamp': '945079301'},\n",
       " {'userId': '4', 'movieId': '588', 'rating': '4.0', 'timestamp': '945079670'},\n",
       " {'userId': '4', 'movieId': '593', 'rating': '5.0', 'timestamp': '964539986'},\n",
       " {'userId': '4', 'movieId': '595', 'rating': '3.0', 'timestamp': '986848609'},\n",
       " {'userId': '4', 'movieId': '599', 'rating': '2.0', 'timestamp': '945078587'},\n",
       " {'userId': '4', 'movieId': '608', 'rating': '5.0', 'timestamp': '964540008'},\n",
       " {'userId': '4', 'movieId': '648', 'rating': '3.0', 'timestamp': '945079906'},\n",
       " {'userId': '4', 'movieId': '708', 'rating': '4.0', 'timestamp': '986935230'},\n",
       " {'userId': '4', 'movieId': '759', 'rating': '3.0', 'timestamp': '945078601'},\n",
       " {'userId': '4', 'movieId': '800', 'rating': '4.0', 'timestamp': '945079106'},\n",
       " {'userId': '4', 'movieId': '892', 'rating': '4.0', 'timestamp': '964622714'},\n",
       " {'userId': '4', 'movieId': '898', 'rating': '5.0', 'timestamp': '964623347'},\n",
       " {'userId': '4', 'movieId': '899', 'rating': '4.0', 'timestamp': '945079653'},\n",
       " {'userId': '4', 'movieId': '902', 'rating': '4.0', 'timestamp': '945078446'},\n",
       " {'userId': '4', 'movieId': '904', 'rating': '4.0', 'timestamp': '945079837'},\n",
       " {'userId': '4', 'movieId': '908', 'rating': '5.0', 'timestamp': '945173902'},\n",
       " {'userId': '4', 'movieId': '910', 'rating': '5.0', 'timestamp': '945173989'},\n",
       " {'userId': '4', 'movieId': '912', 'rating': '5.0', 'timestamp': '945173902'},\n",
       " {'userId': '4', 'movieId': '914', 'rating': '5.0', 'timestamp': '945079670'},\n",
       " {'userId': '4', 'movieId': '919', 'rating': '5.0', 'timestamp': '945079521'},\n",
       " {'userId': '4', 'movieId': '920', 'rating': '5.0', 'timestamp': '945173602'},\n",
       " {'userId': '4', 'movieId': '930', 'rating': '5.0', 'timestamp': '964538571'},\n",
       " {'userId': '4', 'movieId': '937', 'rating': '3.0', 'timestamp': '986849085'},\n",
       " {'userId': '4', 'movieId': '1025', 'rating': '4.0', 'timestamp': '945079232'},\n",
       " {'userId': '4', 'movieId': '1046', 'rating': '5.0', 'timestamp': '945173654'},\n",
       " {'userId': '4', 'movieId': '1057', 'rating': '3.0', 'timestamp': '964540578'},\n",
       " {'userId': '4', 'movieId': '1060', 'rating': '2.0', 'timestamp': '986934819'},\n",
       " {'userId': '4', 'movieId': '1073', 'rating': '4.0', 'timestamp': '945079483'},\n",
       " {'userId': '4', 'movieId': '1077', 'rating': '5.0', 'timestamp': '945173692'},\n",
       " {'userId': '4', 'movieId': '1079', 'rating': '2.0', 'timestamp': '945078946'},\n",
       " {'userId': '4', 'movieId': '1080', 'rating': '5.0', 'timestamp': '986934696'},\n",
       " {'userId': '4', 'movieId': '1084', 'rating': '5.0', 'timestamp': '945079259'},\n",
       " {'userId': '4', 'movieId': '1086', 'rating': '5.0', 'timestamp': '964539723'},\n",
       " {'userId': '4', 'movieId': '1094', 'rating': '3.0', 'timestamp': '964538500'},\n",
       " {'userId': '4', 'movieId': '1103', 'rating': '5.0', 'timestamp': '964539723'},\n",
       " {'userId': '4', 'movieId': '1136', 'rating': '5.0', 'timestamp': '986934625'},\n",
       " {'userId': '4', 'movieId': '1179', 'rating': '4.0', 'timestamp': '964539180'},\n",
       " {'userId': '4', 'movieId': '1183', 'rating': '1.0', 'timestamp': '964778513'},\n",
       " {'userId': '4', 'movieId': '1188', 'rating': '5.0', 'timestamp': '964538500'},\n",
       " {'userId': '4', 'movieId': '1196', 'rating': '5.0', 'timestamp': '964538763'},\n",
       " {'userId': '4', 'movieId': '1197', 'rating': '5.0', 'timestamp': '964538763'},\n",
       " {'userId': '4', 'movieId': '1198', 'rating': '3.0', 'timestamp': '964538728'},\n",
       " {'userId': '4', 'movieId': '1199', 'rating': '2.0', 'timestamp': '945078967'},\n",
       " {'userId': '4', 'movieId': '1203', 'rating': '5.0', 'timestamp': '945174025'},\n",
       " {'userId': '4', 'movieId': '1211', 'rating': '1.0', 'timestamp': '964539205'},\n",
       " {'userId': '4', 'movieId': '1213', 'rating': '4.0', 'timestamp': '945079729'},\n",
       " {'userId': '4', 'movieId': '1219', 'rating': '4.0', 'timestamp': '964539961'},\n",
       " {'userId': '4', 'movieId': '1225', 'rating': '4.0', 'timestamp': '964539326'},\n",
       " {'userId': '4', 'movieId': '1250', 'rating': '5.0', 'timestamp': '945174008'},\n",
       " {'userId': '4', 'movieId': '1259', 'rating': '4.0', 'timestamp': '964538728'},\n",
       " {'userId': '4', 'movieId': '1265', 'rating': '4.0', 'timestamp': '964622684'},\n",
       " {'userId': '4', 'movieId': '1266', 'rating': '4.0', 'timestamp': '986849037'},\n",
       " {'userId': '4', 'movieId': '1279', 'rating': '2.0', 'timestamp': '986934832'},\n",
       " {'userId': '4', 'movieId': '1282', 'rating': '5.0', 'timestamp': '945079653'},\n",
       " {'userId': '4', 'movieId': '1283', 'rating': '5.0', 'timestamp': '945078690'},\n",
       " {'userId': '4', 'movieId': '1288', 'rating': '4.0', 'timestamp': '945079653'},\n",
       " {'userId': '4', 'movieId': '1291', 'rating': '4.0', 'timestamp': '964538763'},\n",
       " {'userId': '4', 'movieId': '1304', 'rating': '3.0', 'timestamp': '945078467'},\n",
       " {'userId': '4', 'movieId': '1391', 'rating': '1.0', 'timestamp': '945173766'},\n",
       " {'userId': '4', 'movieId': '1449', 'rating': '5.0', 'timestamp': '945079767'},\n",
       " {'userId': '4', 'movieId': '1466', 'rating': '4.0', 'timestamp': '945173492'},\n",
       " {'userId': '4', 'movieId': '1500', 'rating': '4.0', 'timestamp': '964622830'},\n",
       " {'userId': '4', 'movieId': '1517', 'rating': '4.0', 'timestamp': '945079790'},\n",
       " {'userId': '4', 'movieId': '1580', 'rating': '3.0', 'timestamp': '986935244'},\n",
       " {'userId': '4', 'movieId': '1597', 'rating': '1.0', 'timestamp': '945079906'},\n",
       " {'userId': '4', 'movieId': '1617', 'rating': '2.0', 'timestamp': '945079837'},\n",
       " {'userId': '4', 'movieId': '1641', 'rating': '4.0', 'timestamp': '964622758'},\n",
       " {'userId': '4', 'movieId': '1704', 'rating': '1.0', 'timestamp': '945629015'},\n",
       " {'userId': '4', 'movieId': '1719', 'rating': '4.0', 'timestamp': '945079956'},\n",
       " {'userId': '4', 'movieId': '1732', 'rating': '4.0', 'timestamp': '945079889'},\n",
       " {'userId': '4', 'movieId': '1733', 'rating': '5.0', 'timestamp': '945079143'},\n",
       " {'userId': '4', 'movieId': '1734', 'rating': '3.0', 'timestamp': '964539357'},\n",
       " {'userId': '4', 'movieId': '1834', 'rating': '5.0', 'timestamp': '945174134'},\n",
       " {'userId': '4', 'movieId': '1860', 'rating': '2.0', 'timestamp': '986849001'},\n",
       " {'userId': '4', 'movieId': '1883', 'rating': '4.0', 'timestamp': '964622642'},\n",
       " {'userId': '4', 'movieId': '1885', 'rating': '3.0', 'timestamp': '964622617'},\n",
       " {'userId': '4', 'movieId': '1892', 'rating': '2.0', 'timestamp': '964539431'},\n",
       " {'userId': '4', 'movieId': '1895', 'rating': '4.0', 'timestamp': '945629179'},\n",
       " {'userId': '4', 'movieId': '1907', 'rating': '3.0', 'timestamp': '964540505'},\n",
       " {'userId': '4', 'movieId': '1914', 'rating': '4.0', 'timestamp': '964622714'},\n",
       " {'userId': '4', 'movieId': '1916', 'rating': '1.0', 'timestamp': '986934786'},\n",
       " {'userId': '4', 'movieId': '1923', 'rating': '3.0', 'timestamp': '986934870'},\n",
       " {'userId': '4', 'movieId': '1947', 'rating': '5.0', 'timestamp': '945079653'},\n",
       " {'userId': '4', 'movieId': '1966', 'rating': '2.0', 'timestamp': '964622684'},\n",
       " {'userId': '4', 'movieId': '1967', 'rating': '5.0', 'timestamp': '945078967'},\n",
       " {'userId': '4', 'movieId': '1968', 'rating': '4.0', 'timestamp': '986934786'},\n",
       " {'userId': '4', 'movieId': '2019', 'rating': '2.0', 'timestamp': '945078690'},\n",
       " {'userId': '4', 'movieId': '2076', 'rating': '4.0', 'timestamp': '945079052'},\n",
       " {'userId': '4', 'movieId': '2078', 'rating': '5.0', 'timestamp': '945079521'},\n",
       " {'userId': '4', 'movieId': '2109', 'rating': '4.0', 'timestamp': '986935016'},\n",
       " {'userId': '4', 'movieId': '2145', 'rating': '3.0', 'timestamp': '986935328'},\n",
       " {'userId': '4', 'movieId': '2150', 'rating': '5.0', 'timestamp': '986934738'},\n",
       " {'userId': '4', 'movieId': '2174', 'rating': '5.0', 'timestamp': '964539855'},\n",
       " {'userId': '4', 'movieId': '2186', 'rating': '5.0', 'timestamp': '945174008'},\n",
       " {'userId': '4', 'movieId': '2203', 'rating': '4.0', 'timestamp': '945079729'},\n",
       " {'userId': '4', 'movieId': '2204', 'rating': '5.0', 'timestamp': '964540008'},\n",
       " {'userId': '4', 'movieId': '2282', 'rating': '1.0', 'timestamp': '945629238'},\n",
       " {'userId': '4', 'movieId': '2324', 'rating': '1.0', 'timestamp': '964622590'},\n",
       " {'userId': '4', 'movieId': '2336', 'rating': '2.0', 'timestamp': '964538964'},\n",
       " {'userId': '4', 'movieId': '2351', 'rating': '4.0', 'timestamp': '945078467'},\n",
       " {'userId': '4', 'movieId': '2359', 'rating': '4.0', 'timestamp': '964622590'},\n",
       " {'userId': '4', 'movieId': '2390', 'rating': '5.0', 'timestamp': '945079164'},\n",
       " {'userId': '4', 'movieId': '2395', 'rating': '3.0', 'timestamp': '964623306'},\n",
       " {'userId': '4', 'movieId': '2406', 'rating': '4.0', 'timestamp': '986935302'},\n",
       " {'userId': '4', 'movieId': '2467', 'rating': '4.0', 'timestamp': '945079858'},\n",
       " {'userId': '4', 'movieId': '2571', 'rating': '1.0', 'timestamp': '945173385'},\n",
       " {'userId': '4', 'movieId': '2583', 'rating': '5.0', 'timestamp': '945078863'},\n",
       " {'userId': '4', 'movieId': '2599', 'rating': '5.0', 'timestamp': '964622684'},\n",
       " {'userId': '4', 'movieId': '2628', 'rating': '1.0', 'timestamp': '986848894'},\n",
       " {'userId': '4', 'movieId': '2683', 'rating': '4.0', 'timestamp': '945079790'},\n",
       " {'userId': '4', 'movieId': '2692', 'rating': '5.0', 'timestamp': '945079013'},\n",
       " {'userId': '4', 'movieId': '2712', 'rating': '2.0', 'timestamp': '945078542'},\n",
       " {'userId': '4', 'movieId': '2762', 'rating': '4.0', 'timestamp': '964539986'},\n",
       " {'userId': '4', 'movieId': '2763', 'rating': '1.0', 'timestamp': '964778621'},\n",
       " {'userId': '4', 'movieId': '2770', 'rating': '2.0', 'timestamp': '945173553'},\n",
       " {'userId': '4', 'movieId': '2791', 'rating': '5.0', 'timestamp': '964539628'},\n",
       " {'userId': '4', 'movieId': '2843', 'rating': '5.0', 'timestamp': '945078814'},\n",
       " {'userId': '4', 'movieId': '2858', 'rating': '5.0', 'timestamp': '964539140'},\n",
       " {'userId': '4', 'movieId': '2874', 'rating': '4.0', 'timestamp': '986935016'},\n",
       " {'userId': '4', 'movieId': '2921', 'rating': '4.0', 'timestamp': '945078708'},\n",
       " {'userId': '4', 'movieId': '2926', 'rating': '5.0', 'timestamp': '986934870'},\n",
       " {'userId': '4', 'movieId': '2959', 'rating': '2.0', 'timestamp': '945078528'},\n",
       " {'userId': '4', 'movieId': '2973', 'rating': '2.0', 'timestamp': '945078946'},\n",
       " {'userId': '4', 'movieId': '2997', 'rating': '4.0', 'timestamp': '986848610'},\n",
       " {'userId': '4', 'movieId': '3033', 'rating': '4.0', 'timestamp': '986936200'},\n",
       " {'userId': '4', 'movieId': '3044', 'rating': '5.0', 'timestamp': '945079920'},\n",
       " {'userId': '4', 'movieId': '3060', 'rating': '4.0', 'timestamp': '986934884'},\n",
       " {'userId': '4', 'movieId': '3079', 'rating': '3.0', 'timestamp': '964778197'},\n",
       " {'userId': '4', 'movieId': '3083', 'rating': '5.0', 'timestamp': '964622487'},\n",
       " {'userId': '4', 'movieId': '3160', 'rating': '4.0', 'timestamp': '964539121'},\n",
       " {'userId': '4', 'movieId': '3175', 'rating': '1.0', 'timestamp': '964538930'},\n",
       " {'userId': '4', 'movieId': '3176', 'rating': '4.0', 'timestamp': '964539771'},\n",
       " {'userId': '4', 'movieId': '3204', 'rating': '4.0', 'timestamp': '964539828'},\n",
       " {'userId': '4', 'movieId': '3255', 'rating': '4.0', 'timestamp': '964623306'},\n",
       " {'userId': '4', 'movieId': '3317', 'rating': '4.0', 'timestamp': '986934498'},\n",
       " {'userId': '4', 'movieId': '3358', 'rating': '3.0', 'timestamp': '964622758'},\n",
       " {'userId': '4', 'movieId': '3365', 'rating': '5.0', 'timestamp': '964538329'},\n",
       " {'userId': '4', 'movieId': '3386', 'rating': '4.0', 'timestamp': '964539395'},\n",
       " {'userId': '4', 'movieId': '3408', 'rating': '4.0', 'timestamp': '986849238'},\n",
       " {'userId': '4', 'movieId': '3481', 'rating': '2.0', 'timestamp': '964538243'},\n",
       " {'userId': '4', 'movieId': '3489', 'rating': '1.0', 'timestamp': '986848908'},\n",
       " {'userId': '4', 'movieId': '3508', 'rating': '5.0', 'timestamp': '964538351'},\n",
       " {'userId': '4', 'movieId': '3538', 'rating': '2.0', 'timestamp': '986849212'},\n",
       " {'userId': '4', 'movieId': '3591', 'rating': '1.0', 'timestamp': '986935199'},\n",
       " {'userId': '4', 'movieId': '3788', 'rating': '3.0', 'timestamp': '964539085'},\n",
       " {'userId': '4', 'movieId': '3809', 'rating': '3.0', 'timestamp': '986936207'},\n",
       " {'userId': '4', 'movieId': '3851', 'rating': '5.0', 'timestamp': '986849180'},\n",
       " {'userId': '4', 'movieId': '3897', 'rating': '4.0', 'timestamp': '986934465'},\n",
       " {'userId': '4', 'movieId': '3911', 'rating': '3.0', 'timestamp': '986849149'},\n",
       " {'userId': '4', 'movieId': '3967', 'rating': '4.0', 'timestamp': '986849164'},\n",
       " {'userId': '4', 'movieId': '3996', 'rating': '4.0', 'timestamp': '986849130'},\n",
       " {'userId': '4', 'movieId': '4002', 'rating': '3.0', 'timestamp': '986934819'},\n",
       " {'userId': '4', 'movieId': '4014', 'rating': '1.0', 'timestamp': '986849254'},\n",
       " {'userId': '4', 'movieId': '4020', 'rating': '3.0', 'timestamp': '986848856'},\n",
       " {'userId': '4', 'movieId': '4021', 'rating': '4.0', 'timestamp': '986849180'},\n",
       " {'userId': '4', 'movieId': '4027', 'rating': '3.0', 'timestamp': '986849201'},\n",
       " {'userId': '4', 'movieId': '4029', 'rating': '3.0', 'timestamp': '986849226'},\n",
       " {'userId': '4', 'movieId': '4033', 'rating': '4.0', 'timestamp': '986849149'},\n",
       " {'userId': '4', 'movieId': '4034', 'rating': '5.0', 'timestamp': '986848753'},\n",
       " {'userId': '4', 'movieId': '4074', 'rating': '3.0', 'timestamp': '986848665'},\n",
       " {'userId': '4', 'movieId': '4121', 'rating': '4.0', 'timestamp': '986934901'},\n",
       " {'userId': '4', 'movieId': '4144', 'rating': '3.0', 'timestamp': '986848685'},\n",
       " {'userId': '4', 'movieId': '4166', 'rating': '3.0', 'timestamp': '986848700'},\n",
       " {'userId': '4',\n",
       "  'movieId': '4226',\n",
       "  'rating': '2.0',\n",
       "  'timestamp': '1007569424'},\n",
       " {'userId': '4', 'movieId': '4239', 'rating': '5.0', 'timestamp': '986848685'},\n",
       " {'userId': '4',\n",
       "  'movieId': '4246',\n",
       "  'rating': '4.0',\n",
       "  'timestamp': '1007574542'},\n",
       " {'userId': '4',\n",
       "  'movieId': '4252',\n",
       "  'rating': '3.0',\n",
       "  'timestamp': '1007569465'},\n",
       " {'userId': '4',\n",
       "  'movieId': '4260',\n",
       "  'rating': '2.0',\n",
       "  'timestamp': '1007569424'},\n",
       " {'userId': '4',\n",
       "  'movieId': '4273',\n",
       "  'rating': '4.0',\n",
       "  'timestamp': '1007574470'},\n",
       " {'userId': '4',\n",
       "  'movieId': '4308',\n",
       "  'rating': '1.0',\n",
       "  'timestamp': '1007569465'},\n",
       " {'userId': '4',\n",
       "  'movieId': '4347',\n",
       "  'rating': '4.0',\n",
       "  'timestamp': '1007569586'},\n",
       " {'userId': '4',\n",
       "  'movieId': '4381',\n",
       "  'rating': '3.0',\n",
       "  'timestamp': '1007574509'},\n",
       " {'userId': '4',\n",
       "  'movieId': '4641',\n",
       "  'rating': '1.0',\n",
       "  'timestamp': '1007569586'},\n",
       " {'userId': '4',\n",
       "  'movieId': '4741',\n",
       "  'rating': '3.0',\n",
       "  'timestamp': '1007574532'},\n",
       " {'userId': '4',\n",
       "  'movieId': '4765',\n",
       "  'rating': '5.0',\n",
       "  'timestamp': '1007569445'},\n",
       " {'userId': '4',\n",
       "  'movieId': '4881',\n",
       "  'rating': '3.0',\n",
       "  'timestamp': '1007569445'},\n",
       " {'userId': '4',\n",
       "  'movieId': '4896',\n",
       "  'rating': '4.0',\n",
       "  'timestamp': '1007574532'},\n",
       " {'userId': '4',\n",
       "  'movieId': '4902',\n",
       "  'rating': '4.0',\n",
       "  'timestamp': '1007569465'},\n",
       " {'userId': '4',\n",
       "  'movieId': '4967',\n",
       "  'rating': '5.0',\n",
       "  'timestamp': '1007569424'},\n",
       " {'userId': '5', 'movieId': '1', 'rating': '4.0', 'timestamp': '847434962'},\n",
       " {'userId': '5', 'movieId': '21', 'rating': '4.0', 'timestamp': '847435238'},\n",
       " {'userId': '5', 'movieId': '34', 'rating': '4.0', 'timestamp': '847434881'},\n",
       " {'userId': '5', 'movieId': '36', 'rating': '4.0', 'timestamp': '847435292'},\n",
       " {'userId': '5', 'movieId': '39', 'rating': '3.0', 'timestamp': '847434961'},\n",
       " {'userId': '5', 'movieId': '50', 'rating': '4.0', 'timestamp': '847434881'},\n",
       " {'userId': '5', 'movieId': '58', 'rating': '5.0', 'timestamp': '847435238'},\n",
       " {'userId': '5', 'movieId': '110', 'rating': '4.0', 'timestamp': '847434880'},\n",
       " {'userId': '5', 'movieId': '150', 'rating': '3.0', 'timestamp': '847434748'},\n",
       " {'userId': '5', 'movieId': '153', 'rating': '3.0', 'timestamp': '847434802'},\n",
       " {'userId': '5', 'movieId': '232', 'rating': '4.0', 'timestamp': '847435292'},\n",
       " {'userId': '5', 'movieId': '247', 'rating': '5.0', 'timestamp': '847435337'},\n",
       " {'userId': '5', 'movieId': '253', 'rating': '3.0', 'timestamp': '847435292'},\n",
       " {'userId': '5', 'movieId': '261', 'rating': '4.0', 'timestamp': '847435238'},\n",
       " {'userId': '5', 'movieId': '265', 'rating': '3.0', 'timestamp': '847435129'},\n",
       " {'userId': '5', 'movieId': '266', 'rating': '1.0', 'timestamp': '847435311'},\n",
       " {'userId': '5', 'movieId': '290', 'rating': '5.0', 'timestamp': '847435311'},\n",
       " {'userId': '5', 'movieId': '296', 'rating': '5.0', 'timestamp': '847434748'},\n",
       " {'userId': '5', 'movieId': '300', 'rating': '3.0', 'timestamp': '847435337'},\n",
       " {'userId': '5', 'movieId': '316', 'rating': '2.0', 'timestamp': '847434832'},\n",
       " {'userId': '5', 'movieId': '318', 'rating': '3.0', 'timestamp': '847434880'},\n",
       " {'userId': '5', 'movieId': '344', 'rating': '3.0', 'timestamp': '847434802'},\n",
       " {'userId': '5', 'movieId': '349', 'rating': '3.0', 'timestamp': '847434832'},\n",
       " {'userId': '5', 'movieId': '357', 'rating': '2.0', 'timestamp': '847435238'},\n",
       " {'userId': '5', 'movieId': '364', 'rating': '3.0', 'timestamp': '847434882'},\n",
       " {'userId': '5', 'movieId': '367', 'rating': '4.0', 'timestamp': '847435129'},\n",
       " {'userId': '5', 'movieId': '380', 'rating': '2.0', 'timestamp': '847434748'},\n",
       " {'userId': '5', 'movieId': '410', 'rating': '3.0', 'timestamp': '847435292'},\n",
       " {'userId': '5', 'movieId': '457', 'rating': '4.0', 'timestamp': '847434801'},\n",
       " {'userId': '5', 'movieId': '474', 'rating': '4.0', 'timestamp': '847435337'},\n",
       " {'userId': '5', 'movieId': '475', 'rating': '5.0', 'timestamp': '847435311'},\n",
       " {'userId': '5', 'movieId': '515', 'rating': '3.0', 'timestamp': '847435129'},\n",
       " {'userId': '5', 'movieId': '527', 'rating': '5.0', 'timestamp': '847434960'},\n",
       " {'userId': '5', 'movieId': '531', 'rating': '4.0', 'timestamp': '847435258'},\n",
       " {'userId': '5', 'movieId': '534', 'rating': '3.0', 'timestamp': '847435311'},\n",
       " {'userId': '5', 'movieId': '588', 'rating': '4.0', 'timestamp': '847434801'},\n",
       " {'userId': '5', 'movieId': '589', 'rating': '3.0', 'timestamp': '847435258'},\n",
       " {'userId': '5', 'movieId': '590', 'rating': '5.0', 'timestamp': '847434747'},\n",
       " {'userId': '5', 'movieId': '592', 'rating': '3.0', 'timestamp': '847434747'},\n",
       " {'userId': '5', 'movieId': '594', 'rating': '5.0', 'timestamp': '847435238'},\n",
       " {'userId': '5', 'movieId': '595', 'rating': '5.0', 'timestamp': '847434832'},\n",
       " {'userId': '5', 'movieId': '596', 'rating': '5.0', 'timestamp': '847435292'},\n",
       " {'userId': '5', 'movieId': '597', 'rating': '3.0', 'timestamp': '847434962'},\n",
       " {'userId': '5', 'movieId': '608', 'rating': '3.0', 'timestamp': '847435258'},\n",
       " {'userId': '6', 'movieId': '2', 'rating': '4.0', 'timestamp': '845553522'},\n",
       " {'userId': '6', 'movieId': '3', 'rating': '5.0', 'timestamp': '845554296'},\n",
       " {'userId': '6', 'movieId': '4', 'rating': '3.0', 'timestamp': '845554349'},\n",
       " {'userId': '6', 'movieId': '5', 'rating': '5.0', 'timestamp': '845553938'},\n",
       " {'userId': '6', 'movieId': '6', 'rating': '4.0', 'timestamp': '845553757'},\n",
       " {'userId': '6', 'movieId': '7', 'rating': '4.0', 'timestamp': '845554264'},\n",
       " {'userId': '6', 'movieId': '8', 'rating': '3.0', 'timestamp': '845555281'},\n",
       " {'userId': '6', 'movieId': '10', 'rating': '3.0', 'timestamp': '845553253'},\n",
       " {'userId': '6', 'movieId': '11', 'rating': '4.0', 'timestamp': '845553489'},\n",
       " {'userId': '6', 'movieId': '13', 'rating': '3.0', 'timestamp': '845555588'},\n",
       " {'userId': '6', 'movieId': '15', 'rating': '4.0', 'timestamp': '845554505'},\n",
       " {'userId': '6', 'movieId': '16', 'rating': '4.0', 'timestamp': '845553819'},\n",
       " {'userId': '6', 'movieId': '17', 'rating': '4.0', 'timestamp': '845553559'},\n",
       " {'userId': '6', 'movieId': '19', 'rating': '2.0', 'timestamp': '845553382'},\n",
       " {'userId': '6', 'movieId': '21', 'rating': '2.0', 'timestamp': '845553382'},\n",
       " {'userId': '6', 'movieId': '22', 'rating': '5.0', 'timestamp': '845553875'},\n",
       " {'userId': '6', 'movieId': '24', 'rating': '4.0', 'timestamp': '845554397'},\n",
       " {'userId': '6', 'movieId': '25', 'rating': '3.0', 'timestamp': '845553695'},\n",
       " {'userId': '6', 'movieId': '26', 'rating': '4.0', 'timestamp': '845555362'},\n",
       " {'userId': '6', 'movieId': '27', 'rating': '3.0', 'timestamp': '845555402'},\n",
       " {'userId': '6', 'movieId': '31', 'rating': '3.0', 'timestamp': '845553819'},\n",
       " {'userId': '6', 'movieId': '32', 'rating': '4.0', 'timestamp': '845553426'},\n",
       " {'userId': '6', 'movieId': '34', 'rating': '4.0', 'timestamp': '845553354'},\n",
       " {'userId': '6', 'movieId': '36', 'rating': '5.0', 'timestamp': '845553726'},\n",
       " {'userId': '6', 'movieId': '41', 'rating': '4.0', 'timestamp': '845554962'},\n",
       " {'userId': '6', 'movieId': '43', 'rating': '4.0', 'timestamp': '845555607'},\n",
       " {'userId': '6', 'movieId': '45', 'rating': '3.0', 'timestamp': '845553907'},\n",
       " {'userId': '6', 'movieId': '46', 'rating': '4.0', 'timestamp': '845554551'},\n",
       " {'userId': '6', 'movieId': '47', 'rating': '4.0', 'timestamp': '845553317'},\n",
       " {'userId': '6', 'movieId': '50', 'rating': '1.0', 'timestamp': '845553381'},\n",
       " {'userId': '6', 'movieId': '54', 'rating': '4.0', 'timestamp': '845555402'},\n",
       " {'userId': '6', 'movieId': '60', 'rating': '4.0', 'timestamp': '845554263'},\n",
       " {'userId': '6', 'movieId': '61', 'rating': '4.0', 'timestamp': '845555454'},\n",
       " {'userId': '6', 'movieId': '62', 'rating': '4.0', 'timestamp': '845553660'},\n",
       " {'userId': '6', 'movieId': '65', 'rating': '3.0', 'timestamp': '845555070'},\n",
       " {'userId': '6', 'movieId': '66', 'rating': '3.0', 'timestamp': '845555151'},\n",
       " {'userId': '6', 'movieId': '76', 'rating': '4.0', 'timestamp': '845555317'},\n",
       " {'userId': '6', 'movieId': '79', 'rating': '3.0', 'timestamp': '845554907'},\n",
       " {'userId': '6', 'movieId': '86', 'rating': '5.0', 'timestamp': '845556131'},\n",
       " {'userId': '6', 'movieId': '87', 'rating': '3.0', 'timestamp': '845555300'},\n",
       " {'userId': '6', 'movieId': '88', 'rating': '2.0', 'timestamp': '845555694'},\n",
       " {'userId': '6', 'movieId': '89', 'rating': '4.0', 'timestamp': '845555124'},\n",
       " {'userId': '6', 'movieId': '92', 'rating': '4.0', 'timestamp': '845555454'},\n",
       " {'userId': '6', 'movieId': '93', 'rating': '4.0', 'timestamp': '845554584'},\n",
       " {'userId': '6', 'movieId': '95', 'rating': '4.0', 'timestamp': '845553559'},\n",
       " {'userId': '6', 'movieId': '100', 'rating': '3.0', 'timestamp': '845555151'},\n",
       " {'userId': '6', 'movieId': '102', 'rating': '1.0', 'timestamp': '845555436'},\n",
       " {'userId': '6', 'movieId': '104', 'rating': '4.0', 'timestamp': '845554349'},\n",
       " {'userId': '6', 'movieId': '105', 'rating': '3.0', 'timestamp': '845553757'},\n",
       " {'userId': '6', 'movieId': '110', 'rating': '5.0', 'timestamp': '845553283'},\n",
       " {'userId': '6', 'movieId': '112', 'rating': '4.0', 'timestamp': '845553994'},\n",
       " {'userId': '6', 'movieId': '113', 'rating': '3.0', 'timestamp': '845556257'},\n",
       " {'userId': '6', 'movieId': '126', 'rating': '3.0', 'timestamp': '845555342'},\n",
       " {'userId': '6', 'movieId': '135', 'rating': '3.0', 'timestamp': '845554987'},\n",
       " {'userId': '6', 'movieId': '140', 'rating': '3.0', 'timestamp': '845555024'},\n",
       " {'userId': '6', 'movieId': '141', 'rating': '4.0', 'timestamp': '845553586'},\n",
       " {'userId': '6', 'movieId': '145', 'rating': '4.0', 'timestamp': '845553966'},\n",
       " {'userId': '6', 'movieId': '146', 'rating': '4.0', 'timestamp': '845555607'},\n",
       " {'userId': '6', 'movieId': '150', 'rating': '4.0', 'timestamp': '845553110'},\n",
       " {'userId': '6', 'movieId': '151', 'rating': '4.0', 'timestamp': '845553586'},\n",
       " {'userId': '6', 'movieId': '153', 'rating': '3.0', 'timestamp': '845553146'},\n",
       " {'userId': '6', 'movieId': '158', 'rating': '4.0', 'timestamp': '845553660'},\n",
       " {'userId': '6', 'movieId': '159', 'rating': '3.0', 'timestamp': '845555006'},\n",
       " {'userId': '6', 'movieId': '160', 'rating': '5.0', 'timestamp': '845553457'},\n",
       " {'userId': '6', 'movieId': '161', 'rating': '3.0', 'timestamp': '845553253'},\n",
       " {'userId': '6', 'movieId': '163', 'rating': '3.0', 'timestamp': '845553907'},\n",
       " {'userId': '6', 'movieId': '165', 'rating': '3.0', 'timestamp': '845553146'},\n",
       " {'userId': '6', 'movieId': '168', 'rating': '5.0', 'timestamp': '845553695'},\n",
       " {'userId': '6', 'movieId': '170', 'rating': '3.0', 'timestamp': '845554263'},\n",
       " {'userId': '6', 'movieId': '171', 'rating': '3.0', 'timestamp': '845555402'},\n",
       " {'userId': '6', 'movieId': '174', 'rating': '3.0', 'timestamp': '845554479'},\n",
       " {'userId': '6', 'movieId': '177', 'rating': '3.0', 'timestamp': '845554931'},\n",
       " {'userId': '6', 'movieId': '179', 'rating': '1.0', 'timestamp': '845555362'},\n",
       " {'userId': '6', 'movieId': '180', 'rating': '2.0', 'timestamp': '845555006'},\n",
       " {'userId': '6', 'movieId': '181', 'rating': '3.0', 'timestamp': '845553938'},\n",
       " {'userId': '6', 'movieId': '185', 'rating': '3.0', 'timestamp': '845553283'},\n",
       " {'userId': '6', 'movieId': '186', 'rating': '3.0', 'timestamp': '845553619'},\n",
       " {'userId': '6', 'movieId': '189', 'rating': '3.0', 'timestamp': '845556241'},\n",
       " {'userId': '6', 'movieId': '191', 'rating': '2.0', 'timestamp': '845554931'},\n",
       " {'userId': '6', 'movieId': '195', 'rating': '4.0', 'timestamp': '845554455'},\n",
       " {'userId': '6', 'movieId': '196', 'rating': '3.0', 'timestamp': '845553586'},\n",
       " {'userId': '6', 'movieId': '201', 'rating': '3.0', 'timestamp': '845556290'},\n",
       " {'userId': '6', 'movieId': '204', 'rating': '3.0', 'timestamp': '845553619'},\n",
       " {'userId': '6', 'movieId': '205', 'rating': '3.0', 'timestamp': '845555477'},\n",
       " {'userId': '6', 'movieId': '207', 'rating': '4.0', 'timestamp': '845554024'},\n",
       " {'userId': '6', 'movieId': '208', 'rating': '3.0', 'timestamp': '845553253'},\n",
       " {'userId': '6', 'movieId': '209', 'rating': '3.0', 'timestamp': '845556106'},\n",
       " {'userId': '6', 'movieId': '210', 'rating': '4.0', 'timestamp': '845556310'},\n",
       " {'userId': '6', 'movieId': '212', 'rating': '4.0', 'timestamp': '845556181'},\n",
       " {'userId': '6', 'movieId': '216', 'rating': '4.0', 'timestamp': '845554099'},\n",
       " {'userId': '6', 'movieId': '217', 'rating': '3.0', 'timestamp': '845555382'},\n",
       " {'userId': '6', 'movieId': '218', 'rating': '2.0', 'timestamp': '845553994'},\n",
       " {'userId': '6', 'movieId': '219', 'rating': '3.0', 'timestamp': '845556131'},\n",
       " {'userId': '6', 'movieId': '222', 'rating': '4.0', 'timestamp': '845554024'},\n",
       " {'userId': '6', 'movieId': '224', 'rating': '3.0', 'timestamp': '845553794'},\n",
       " {'userId': '6', 'movieId': '225', 'rating': '4.0', 'timestamp': '845553381'},\n",
       " {'userId': '6', 'movieId': '230', 'rating': '5.0', 'timestamp': '845553966'},\n",
       " {'userId': '6', 'movieId': '231', 'rating': '3.0', 'timestamp': '845553174'},\n",
       " {'userId': '6', 'movieId': '234', 'rating': '2.0', 'timestamp': '845554176'},\n",
       " {'userId': '6', 'movieId': '236', 'rating': '4.0', 'timestamp': '845553559'},\n",
       " {'userId': '6', 'movieId': '237', 'rating': '4.0', 'timestamp': '845553875'},\n",
       " {'userId': '6', 'movieId': '239', 'rating': '3.0', 'timestamp': '845554987'},\n",
       " {'userId': '6', 'movieId': '240', 'rating': '3.0', 'timestamp': '845555571'},\n",
       " {'userId': '6', 'movieId': '243', 'rating': '3.0', 'timestamp': '845555588'},\n",
       " {'userId': '6', 'movieId': '248', 'rating': '5.0', 'timestamp': '845554263'},\n",
       " {'userId': '6', 'movieId': '250', 'rating': '4.0', 'timestamp': '845555588'},\n",
       " {'userId': '6', 'movieId': '251', 'rating': '3.0', 'timestamp': '845556257'},\n",
       " {'userId': '6', 'movieId': '252', 'rating': '4.0', 'timestamp': '845553619'},\n",
       " {'userId': '6', 'movieId': '253', 'rating': '3.0', 'timestamp': '845553283'},\n",
       " {'userId': '6', 'movieId': '254', 'rating': '3.0', 'timestamp': '845555655'},\n",
       " {'userId': '6', 'movieId': '256', 'rating': '3.0', 'timestamp': '845553726'},\n",
       " {'userId': '6', 'movieId': '257', 'rating': '5.0', 'timestamp': '845554176'},\n",
       " {'userId': '6', 'movieId': '258', 'rating': '3.0', 'timestamp': '845555172'},\n",
       " {'userId': '6', 'movieId': '261', 'rating': '4.0', 'timestamp': '845553695'},\n",
       " {'userId': '6', 'movieId': '262', 'rating': '5.0', 'timestamp': '845554551'},\n",
       " {'userId': '6', 'movieId': '265', 'rating': '3.0', 'timestamp': '845553726'},\n",
       " {'userId': '6', 'movieId': '266', 'rating': '3.0', 'timestamp': '845553457'},\n",
       " {'userId': '6', 'movieId': '267', 'rating': '3.0', 'timestamp': '845554376'},\n",
       " {'userId': '6', 'movieId': '270', 'rating': '3.0', 'timestamp': '845555172'},\n",
       " {'userId': '6', 'movieId': '271', 'rating': '4.0', 'timestamp': '845555249'},\n",
       " {'userId': '6', 'movieId': '273', 'rating': '3.0', 'timestamp': '845553875'},\n",
       " {'userId': '6', 'movieId': '274', 'rating': '4.0', 'timestamp': '845555151'},\n",
       " {'userId': '6', 'movieId': '276', 'rating': '4.0', 'timestamp': '845553907'},\n",
       " {'userId': '6', 'movieId': '277', 'rating': '5.0', 'timestamp': '845553844'},\n",
       " {'userId': '6', 'movieId': '279', 'rating': '3.0', 'timestamp': '845555436'},\n",
       " {'userId': '6', 'movieId': '281', 'rating': '4.0', 'timestamp': '845554320'},\n",
       " {'userId': '6', 'movieId': '282', 'rating': '3.0', 'timestamp': '845553522'},\n",
       " {'userId': '6', 'movieId': '288', 'rating': '2.0', 'timestamp': '845553283'},\n",
       " {'userId': '6', 'movieId': '289', 'rating': '3.0', 'timestamp': '845554455'},\n",
       " {'userId': '6', 'movieId': '291', 'rating': '3.0', 'timestamp': '845555571'},\n",
       " {'userId': '6', 'movieId': '292', 'rating': '4.0', 'timestamp': '845553253'},\n",
       " {'userId': '6', 'movieId': '293', 'rating': '3.0', 'timestamp': '845553660'},\n",
       " {'userId': '6', 'movieId': '296', 'rating': '2.0', 'timestamp': '845553110'},\n",
       " {'userId': '6', 'movieId': '302', 'rating': '3.0', 'timestamp': '845555436'},\n",
       " {'userId': '6', 'movieId': '303', 'rating': '3.0', 'timestamp': '845554099'},\n",
       " {'userId': '6', 'movieId': '304', 'rating': '4.0', 'timestamp': '845555546'},\n",
       " {'userId': '6', 'movieId': '310', 'rating': '3.0', 'timestamp': '845556119'},\n",
       " {'userId': '6', 'movieId': '312', 'rating': '1.0', 'timestamp': '845555151'},\n",
       " {'userId': '6', 'movieId': '313', 'rating': '3.0', 'timestamp': '845555546'},\n",
       " {'userId': '6', 'movieId': '314', 'rating': '5.0', 'timestamp': '845554603'},\n",
       " {'userId': '6', 'movieId': '315', 'rating': '4.0', 'timestamp': '845553522'},\n",
       " {'userId': '6', 'movieId': '316', 'rating': '5.0', 'timestamp': '845553174'},\n",
       " {'userId': '6', 'movieId': '317', 'rating': '4.0', 'timestamp': '845553457'},\n",
       " {'userId': '6', 'movieId': '318', 'rating': '5.0', 'timestamp': '845553200'},\n",
       " {'userId': '6', 'movieId': '327', 'rating': '1.0', 'timestamp': '845554062'},\n",
       " {'userId': '6', 'movieId': '329', 'rating': '4.0', 'timestamp': '845553200'},\n",
       " {'userId': '6', 'movieId': '330', 'rating': '3.0', 'timestamp': '845555071'},\n",
       " {'userId': '6', 'movieId': '332', 'rating': '3.0', 'timestamp': '845555046'},\n",
       " {'userId': '6', 'movieId': '333', 'rating': '5.0', 'timestamp': '845553757'},\n",
       " {'userId': '6', 'movieId': '336', 'rating': '3.0', 'timestamp': '845556223'},\n",
       " {'userId': '6', 'movieId': '337', 'rating': '5.0', 'timestamp': '845553586'},\n",
       " {'userId': '6', 'movieId': '339', 'rating': '4.0', 'timestamp': '845553253'},\n",
       " {'userId': '6', 'movieId': '340', 'rating': '4.0', 'timestamp': '845555265'},\n",
       " {'userId': '6', 'movieId': '342', 'rating': '3.0', 'timestamp': '845553938'},\n",
       " {'userId': '6', 'movieId': '343', 'rating': '3.0', 'timestamp': '845555172'},\n",
       " {'userId': '6', 'movieId': '344', 'rating': '3.0', 'timestamp': '845553146'},\n",
       " {'userId': '6', 'movieId': '347', 'rating': '3.0', 'timestamp': '845555300'},\n",
       " {'userId': '6', 'movieId': '348', 'rating': '3.0', 'timestamp': '845553938'},\n",
       " {'userId': '6', 'movieId': '349', 'rating': '5.0', 'timestamp': '845553146'},\n",
       " {'userId': '6', 'movieId': '350', 'rating': '5.0', 'timestamp': '845553489'},\n",
       " {'userId': '6', 'movieId': '351', 'rating': '4.0', 'timestamp': '845554455'},\n",
       " {'userId': '6', 'movieId': '352', 'rating': '3.0', 'timestamp': '845555382'},\n",
       " {'userId': '6', 'movieId': '353', 'rating': '4.0', 'timestamp': '845553726'},\n",
       " {'userId': '6', 'movieId': '354', 'rating': '4.0', 'timestamp': '845555402'},\n",
       " {'userId': '6', 'movieId': '355', 'rating': '4.0', 'timestamp': '845553819'},\n",
       " {'userId': '6', 'movieId': '356', 'rating': '5.0', 'timestamp': '845553200'},\n",
       " {'userId': '6', 'movieId': '357', 'rating': '3.0', 'timestamp': '845553457'},\n",
       " {'userId': '6', 'movieId': '358', 'rating': '3.0', 'timestamp': '845555265'},\n",
       " {'userId': '6', 'movieId': '359', 'rating': '3.0', 'timestamp': '845556412'},\n",
       " {'userId': '6', 'movieId': '360', 'rating': '3.0', 'timestamp': '845555094'},\n",
       " {'userId': '6', 'movieId': '361', 'rating': '4.0', 'timestamp': '845554376'},\n",
       " {'userId': '6', 'movieId': '362', 'rating': '3.0', 'timestamp': '845553994'},\n",
       " {'userId': '6', 'movieId': '364', 'rating': '5.0', 'timestamp': '845553317'},\n",
       " {'userId': '6', 'movieId': '366', 'rating': '3.0', 'timestamp': '845554962'},\n",
       " {'userId': '6', 'movieId': '367', 'rating': '4.0', 'timestamp': '845553317'},\n",
       " {'userId': '6', 'movieId': '368', 'rating': '5.0', 'timestamp': '845553726'},\n",
       " {'userId': '6', 'movieId': '370', 'rating': '4.0', 'timestamp': '845553794'},\n",
       " {'userId': '6', 'movieId': '371', 'rating': '3.0', 'timestamp': '845554141'},\n",
       " {'userId': '6', 'movieId': '374', 'rating': '3.0', 'timestamp': '845554296'},\n",
       " {'userId': '6', 'movieId': '377', 'rating': '5.0', 'timestamp': '845553317'},\n",
       " {'userId': '6', 'movieId': '378', 'rating': '3.0', 'timestamp': '845554987'},\n",
       " {'userId': '6', 'movieId': '380', 'rating': '4.0', 'timestamp': '845553110'},\n",
       " {'userId': '6', 'movieId': '381', 'rating': '3.0', 'timestamp': '845553994'},\n",
       " {'userId': '6', 'movieId': '382', 'rating': '3.0', 'timestamp': '845554397'},\n",
       " {'userId': '6', 'movieId': '383', 'rating': '3.0', 'timestamp': '845554320'},\n",
       " {'userId': '6', 'movieId': '405', 'rating': '3.0', 'timestamp': '845554603'},\n",
       " {'userId': '6', 'movieId': '410', 'rating': '3.0', 'timestamp': '845553354'},\n",
       " {'userId': '6', 'movieId': '412', 'rating': '3.0', 'timestamp': '845554505'},\n",
       " {'userId': '6', 'movieId': '415', 'rating': '4.0', 'timestamp': '845554420'},\n",
       " {'userId': '6', 'movieId': '416', 'rating': '3.0', 'timestamp': '845554962'},\n",
       " {'userId': '6', 'movieId': '419', 'rating': '3.0', 'timestamp': '845554224'},\n",
       " {'userId': '6', 'movieId': '426', 'rating': '3.0', 'timestamp': '845554551'},\n",
       " {'userId': '6', 'movieId': '432', 'rating': '5.0', 'timestamp': '845553489'},\n",
       " {'userId': '6', 'movieId': '434', 'rating': '4.0', 'timestamp': '845553200'},\n",
       " {'userId': '6', 'movieId': '435', 'rating': '3.0', 'timestamp': '845553489'},\n",
       " {'userId': '6', 'movieId': '437', 'rating': '3.0', 'timestamp': '845554505'},\n",
       " {'userId': '6', 'movieId': '440', 'rating': '4.0', 'timestamp': '845553457'},\n",
       " {'userId': '6', 'movieId': '445', 'rating': '3.0', 'timestamp': '845555124'},\n",
       " {'userId': '6', 'movieId': '450', 'rating': '4.0', 'timestamp': '845555024'},\n",
       " {'userId': '6', 'movieId': '454', 'rating': '4.0', 'timestamp': '845553283'},\n",
       " {'userId': '6', 'movieId': '455', 'rating': '3.0', 'timestamp': '845554062'},\n",
       " {'userId': '6', 'movieId': '457', 'rating': '5.0', 'timestamp': '845553174'},\n",
       " {'userId': '6', 'movieId': '458', 'rating': '3.0', 'timestamp': '845555546'},\n",
       " {'userId': '6', 'movieId': '460', 'rating': '3.0', 'timestamp': '845555281'},\n",
       " {'userId': '6', 'movieId': '466', 'rating': '2.0', 'timestamp': '845553844'},\n",
       " {'userId': '6', 'movieId': '468', 'rating': '4.0', 'timestamp': '845553907'},\n",
       " {'userId': '6', 'movieId': '469', 'rating': '4.0', 'timestamp': '845555477'},\n",
       " {'userId': '6', 'movieId': '472', 'rating': '3.0', 'timestamp': '845555632'},\n",
       " {'userId': '6', 'movieId': '474', 'rating': '4.0', 'timestamp': '845553522'},\n",
       " {'userId': '6', 'movieId': '475', 'rating': '4.0', 'timestamp': '845554099'},\n",
       " {'userId': '6', 'movieId': '477', 'rating': '4.0', 'timestamp': '845554141'},\n",
       " {'userId': '6', 'movieId': '480', 'rating': '5.0', 'timestamp': '845553200'},\n",
       " {'userId': '6', 'movieId': '485', 'rating': '3.0', 'timestamp': '845553794'},\n",
       " {'userId': '6', 'movieId': '489', 'rating': '3.0', 'timestamp': '845554505'},\n",
       " {'userId': '6', 'movieId': '490', 'rating': '3.0', 'timestamp': '845554584'},\n",
       " {'userId': '6', 'movieId': '491', 'rating': '4.0', 'timestamp': '845554141'},\n",
       " {'userId': '6', 'movieId': '493', 'rating': '3.0', 'timestamp': '845555172'},\n",
       " {'userId': '6', 'movieId': '494', 'rating': '3.0', 'timestamp': '845554176'},\n",
       " {'userId': '6', 'movieId': '497', 'rating': '3.0', 'timestamp': '845553819'},\n",
       " {'userId': '6', 'movieId': '500', 'rating': '5.0', 'timestamp': '845553354'},\n",
       " {'userId': '6', 'movieId': '502', 'rating': '3.0', 'timestamp': '845554455'},\n",
       " {'userId': '6', 'movieId': '505', 'rating': '3.0', 'timestamp': '845555317'},\n",
       " {'userId': '6', 'movieId': '508', 'rating': '4.0', 'timestamp': '845553586'},\n",
       " {'userId': '6', 'movieId': '509', 'rating': '3.0', 'timestamp': '845553522'},\n",
       " {'userId': '6', 'movieId': '510', 'rating': '3.0', 'timestamp': '845555546'},\n",
       " {'userId': '6', 'movieId': '515', 'rating': '4.0', 'timestamp': '845553794'},\n",
       " {'userId': '6', 'movieId': '516', 'rating': '4.0', 'timestamp': '845554908'},\n",
       " {'userId': '6', 'movieId': '520', 'rating': '3.0', 'timestamp': '845553844'},\n",
       " {'userId': '6', 'movieId': '524', 'rating': '3.0', 'timestamp': '845554479'},\n",
       " {'userId': '6', 'movieId': '527', 'rating': '3.0', 'timestamp': '845553426'},\n",
       " {'userId': '6', 'movieId': '531', 'rating': '3.0', 'timestamp': '845554296'},\n",
       " {'userId': '6', 'movieId': '532', 'rating': '3.0', 'timestamp': '845554224'},\n",
       " {'userId': '6', 'movieId': '536', 'rating': '3.0', 'timestamp': '845556181'},\n",
       " {'userId': '6', 'movieId': '537', 'rating': '3.0', 'timestamp': '845554551'},\n",
       " {'userId': '6', 'movieId': '539', 'rating': '3.0', 'timestamp': '845553426'},\n",
       " {'userId': '6', 'movieId': '540', 'rating': '3.0', 'timestamp': '845554099'},\n",
       " {'userId': '6', 'movieId': '542', 'rating': '4.0', 'timestamp': '845554524'},\n",
       " {'userId': '6', 'movieId': '543', 'rating': '3.0', 'timestamp': '845554099'},\n",
       " {'userId': '6', 'movieId': '546', 'rating': '2.0', 'timestamp': '845554349'},\n",
       " {'userId': '6', 'movieId': '548', 'rating': '3.0', 'timestamp': '845554908'},\n",
       " {'userId': '6', 'movieId': '552', 'rating': '3.0', 'timestamp': '845553875'},\n",
       " {'userId': '6', 'movieId': '553', 'rating': '5.0', 'timestamp': '845553559'},\n",
       " {'userId': '6', 'movieId': '569', 'rating': '4.0', 'timestamp': '845555342'},\n",
       " {'userId': '6', 'movieId': '575', 'rating': '3.0', 'timestamp': '845555070'},\n",
       " {'userId': '6', 'movieId': '587', 'rating': '5.0', 'timestamp': '845553381'},\n",
       " {'userId': '6', 'movieId': '588', 'rating': '5.0', 'timestamp': '845553146'},\n",
       " {'userId': '6', 'movieId': '589', 'rating': '3.0', 'timestamp': '845553317'},\n",
       " {'userId': '6', 'movieId': '590', 'rating': '5.0', 'timestamp': '845553109'},\n",
       " {'userId': '6', 'movieId': '592', 'rating': '3.0', 'timestamp': '845553109'},\n",
       " {'userId': '6', 'movieId': '593', 'rating': '4.0', 'timestamp': '845553174'},\n",
       " {'userId': '6', 'movieId': '594', 'rating': '4.0', 'timestamp': '845553819'},\n",
       " {'userId': '6', 'movieId': '595', 'rating': '5.0', 'timestamp': '845553174'},\n",
       " {'userId': '6', 'movieId': '596', 'rating': '3.0', 'timestamp': '845554141'},\n",
       " {'userId': '6', 'movieId': '597', 'rating': '4.0', 'timestamp': '845553354'},\n",
       " {'userId': '6', 'movieId': '606', 'rating': '3.0', 'timestamp': '845555024'},\n",
       " {'userId': '6', 'movieId': '608', 'rating': '3.0', 'timestamp': '845553844'},\n",
       " {'userId': '6', 'movieId': '609', 'rating': '4.0', 'timestamp': '845555342'},\n",
       " {'userId': '6', 'movieId': '616', 'rating': '5.0', 'timestamp': '845554062'},\n",
       " {'userId': '6', 'movieId': '628', 'rating': '3.0', 'timestamp': '845555300'},\n",
       " {'userId': '6', 'movieId': '631', 'rating': '4.0', 'timestamp': '845555265'},\n",
       " {'userId': '6', 'movieId': '637', 'rating': '4.0', 'timestamp': '845555046'},\n",
       " {'userId': '6', 'movieId': '640', 'rating': '1.0', 'timestamp': '845555362'},\n",
       " {'userId': '6', 'movieId': '647', 'rating': '4.0', 'timestamp': '845555151'},\n",
       " {'userId': '6', 'movieId': '662', 'rating': '3.0', 'timestamp': '845556147'},\n",
       " {'userId': '6', 'movieId': '667', 'rating': '3.0', 'timestamp': '845555342'},\n",
       " {'userId': '6', 'movieId': '694', 'rating': '3.0', 'timestamp': '845555694'},\n",
       " {'userId': '6', 'movieId': '697', 'rating': '3.0', 'timestamp': '845556378'},\n",
       " {'userId': '6', 'movieId': '700', 'rating': '4.0', 'timestamp': '845556147'},\n",
       " {'userId': '6', 'movieId': '704', 'rating': '3.0', 'timestamp': '845555571'},\n",
       " {'userId': '6', 'movieId': '708', 'rating': '4.0', 'timestamp': '845554376'},\n",
       " {'userId': '6', 'movieId': '709', 'rating': '5.0', 'timestamp': '845555249'},\n",
       " {'userId': '6', 'movieId': '710', 'rating': '3.0', 'timestamp': '845556223'},\n",
       " {'userId': '6', 'movieId': '711', 'rating': '4.0', 'timestamp': '845555317'},\n",
       " {'userId': '6', 'movieId': '719', 'rating': '2.0', 'timestamp': '845555694'},\n",
       " {'userId': '6', 'movieId': '736', 'rating': '5.0', 'timestamp': '845553619'},\n",
       " {'userId': '6', 'movieId': '747', 'rating': '3.0', 'timestamp': '845555046'},\n",
       " {'userId': '6', 'movieId': '762', 'rating': '1.0', 'timestamp': '845555006'},\n",
       " {'userId': '6', 'movieId': '765', 'rating': '3.0', 'timestamp': '845555632'},\n",
       " {'userId': '6', 'movieId': '775', 'rating': '3.0', 'timestamp': '845556462'},\n",
       " {'userId': '6', 'movieId': '780', 'rating': '5.0', 'timestamp': '845556915'},\n",
       " {'userId': '6', 'movieId': '783', 'rating': '5.0', 'timestamp': '845554584'},\n",
       " {'userId': '6', 'movieId': '795', 'rating': '3.0', 'timestamp': '845556506'},\n",
       " {'userId': '6', 'movieId': '799', 'rating': '3.0', 'timestamp': '845555656'},\n",
       " {'userId': '6', 'movieId': '801', 'rating': '3.0', 'timestamp': '845556194'},\n",
       " {'userId': '6', 'movieId': '802', 'rating': '4.0', 'timestamp': '845554584'},\n",
       " {'userId': '6', 'movieId': '818', 'rating': '3.0', 'timestamp': '845555514'},\n",
       " {'userId': '6', 'movieId': '830', 'rating': '5.0', 'timestamp': '845556222'},\n",
       " {'userId': '6', 'movieId': '835', 'rating': '4.0', 'timestamp': '845556194'},\n",
       " {'userId': '6', 'movieId': '837', 'rating': '3.0', 'timestamp': '845556241'},\n",
       " {'userId': '6', 'movieId': '838', 'rating': '4.0', 'timestamp': '845555514'},\n",
       " {'userId': '6', 'movieId': '839', 'rating': '3.0', 'timestamp': '845556120'},\n",
       " {'userId': '6', 'movieId': '842', 'rating': '3.0', 'timestamp': '845555675'},\n",
       " {'userId': '6', 'movieId': '848', 'rating': '4.0', 'timestamp': '845556340'},\n",
       " {'userId': '6', 'movieId': '852', 'rating': '4.0', 'timestamp': '845555694'},\n",
       " {'userId': '6', 'movieId': '867', 'rating': '3.0', 'timestamp': '845556412'},\n",
       " {'userId': '6', 'movieId': '880', 'rating': '3.0', 'timestamp': '845556181'},\n",
       " {'userId': '6', 'movieId': '881', 'rating': '3.0', 'timestamp': '845556340'},\n",
       " {'userId': '6', 'movieId': '888', 'rating': '3.0', 'timestamp': '845556448'},\n",
       " {'userId': '6', 'movieId': '891', 'rating': '3.0', 'timestamp': '845556241'},\n",
       " {'userId': '6', 'movieId': '979', 'rating': '3.0', 'timestamp': '845556808'},\n",
       " {'userId': '6', 'movieId': '981', 'rating': '3.0', 'timestamp': '845556567'},\n",
       " {'userId': '6', 'movieId': '986', 'rating': '4.0', 'timestamp': '845556475'},\n",
       " {'userId': '6', 'movieId': '991', 'rating': '4.0', 'timestamp': '845556808'},\n",
       " {'userId': '6', 'movieId': '996', 'rating': '4.0', 'timestamp': '845556323'},\n",
       " {'userId': '6', 'movieId': '999', 'rating': '2.0', 'timestamp': '845556412'},\n",
       " {'userId': '6', 'movieId': '1004', 'rating': '4.0', 'timestamp': '845556506'},\n",
       " {'userId': '6', 'movieId': '1006', 'rating': '4.0', 'timestamp': '845556694'},\n",
       " {'userId': '6', 'movieId': '1042', 'rating': '3.0', 'timestamp': '845556462'},\n",
       " {'userId': '6', 'movieId': '1049', 'rating': '5.0', 'timestamp': '845556694'},\n",
       " {'userId': '6', 'movieId': '1061', 'rating': '4.0', 'timestamp': '845556860'},\n",
       " {'userId': '6', 'movieId': '1064', 'rating': '4.0', 'timestamp': '845556579'},\n",
       " {'userId': '6', 'movieId': '1073', 'rating': '3.0', 'timestamp': '845555571'},\n",
       " {'userId': '6', 'movieId': '1082', 'rating': '4.0', 'timestamp': '845556278'},\n",
       " {'userId': '6', 'movieId': '1084', 'rating': '3.0', 'timestamp': '845555454'},\n",
       " {'userId': '7', 'movieId': '1', 'rating': '4.5', 'timestamp': '1106635946'},\n",
       " {'userId': '7', 'movieId': '50', 'rating': '4.5', 'timestamp': '1106635993'},\n",
       " {'userId': '7', 'movieId': '58', 'rating': '3.0', 'timestamp': '1106635520'},\n",
       " {'userId': '7', 'movieId': '150', 'rating': '4.5', 'timestamp': '1106635925'},\n",
       " {'userId': '7', 'movieId': '165', 'rating': '4.0', 'timestamp': '1106635987'},\n",
       " {'userId': '7', 'movieId': '260', 'rating': '5.0', 'timestamp': '1106635933'},\n",
       " {'userId': '7', 'movieId': '356', 'rating': '5.0', 'timestamp': '1106635915'},\n",
       " {'userId': '7', 'movieId': '380', 'rating': '3.0', 'timestamp': '1106635937'},\n",
       " {'userId': '7', 'movieId': '466', 'rating': '5.0', 'timestamp': '1106635532'},\n",
       " {'userId': '7', 'movieId': '480', 'rating': '5.0', 'timestamp': '1106635917'},\n",
       " {'userId': '7', 'movieId': '587', 'rating': '2.0', 'timestamp': '1106635714'},\n",
       " {'userId': '7', 'movieId': '588', 'rating': '3.0', 'timestamp': '1106635971'},\n",
       " {'userId': '7', 'movieId': '589', 'rating': '2.5', 'timestamp': '1106635940'},\n",
       " {'userId': '7', 'movieId': '592', 'rating': '3.0', 'timestamp': '1106635922'},\n",
       " {'userId': '7', 'movieId': '593', 'rating': '5.0', 'timestamp': '1106635912'},\n",
       " {'userId': '7', 'movieId': '595', 'rating': '3.5', 'timestamp': '1106712636'},\n",
       " {'userId': '7', 'movieId': '648', 'rating': '4.0', 'timestamp': '1106635981'},\n",
       " {'userId': '7', 'movieId': '750', 'rating': '4.0', 'timestamp': '1106636810'},\n",
       " {'userId': '7', 'movieId': '780', 'rating': '4.5', 'timestamp': '1106635943'},\n",
       " {'userId': '7', 'movieId': '920', 'rating': '3.0', 'timestamp': '1106635685'},\n",
       " {'userId': '7', 'movieId': '924', 'rating': '4.0', 'timestamp': '1106712615'},\n",
       " {'userId': '7',\n",
       "  'movieId': '1101',\n",
       "  'rating': '4.0',\n",
       "  'timestamp': '1106635502'},\n",
       " {'userId': '7',\n",
       "  'movieId': '1183',\n",
       "  'rating': '1.5',\n",
       "  'timestamp': '1106712613'},\n",
       " {'userId': '7',\n",
       "  'movieId': '1196',\n",
       "  'rating': '4.0',\n",
       "  'timestamp': '1106635996'},\n",
       " {'userId': '7',\n",
       "  'movieId': '1208',\n",
       "  'rating': '4.0',\n",
       "  'timestamp': '1106635462'},\n",
       " {'userId': '7',\n",
       "  'movieId': '1210',\n",
       "  'rating': '4.0',\n",
       "  'timestamp': '1106635965'},\n",
       " {'userId': '7',\n",
       "  'movieId': '1219',\n",
       "  'rating': '5.0',\n",
       "  'timestamp': '1106635496'},\n",
       " {'userId': '7',\n",
       "  'movieId': '1220',\n",
       "  'rating': '4.5',\n",
       "  'timestamp': '1106635464'},\n",
       " {'userId': '7',\n",
       "  'movieId': '1240',\n",
       "  'rating': '5.0',\n",
       "  'timestamp': '1106712575'},\n",
       " {'userId': '7',\n",
       "  'movieId': '1246',\n",
       "  'rating': '1.5',\n",
       "  'timestamp': '1106635678'},\n",
       " {'userId': '7',\n",
       "  'movieId': '1270',\n",
       "  'rating': '5.0',\n",
       "  'timestamp': '1106635681'},\n",
       " {'userId': '7',\n",
       "  'movieId': '1517',\n",
       "  'rating': '3.5',\n",
       "  'timestamp': '1106635489'},\n",
       " {'userId': '7',\n",
       "  'movieId': '1584',\n",
       "  'rating': '5.0',\n",
       "  'timestamp': '1106635423'},\n",
       " {'userId': '7',\n",
       "  'movieId': '1610',\n",
       "  'rating': '4.0',\n",
       "  'timestamp': '1106635429'},\n",
       " {'userId': '7',\n",
       "  'movieId': '1617',\n",
       "  'rating': '3.0',\n",
       "  'timestamp': '1107127060'},\n",
       " {'userId': '7',\n",
       "  'movieId': '1682',\n",
       "  'rating': '3.0',\n",
       "  'timestamp': '1106635653'},\n",
       " {'userId': '7',\n",
       "  'movieId': '1784',\n",
       "  'rating': '0.5',\n",
       "  'timestamp': '1106635416'},\n",
       " {'userId': '7',\n",
       "  'movieId': '1917',\n",
       "  'rating': '4.0',\n",
       "  'timestamp': '1106635484'},\n",
       " {'userId': '7',\n",
       "  'movieId': '1923',\n",
       "  'rating': '1.5',\n",
       "  'timestamp': '1106635444'},\n",
       " {'userId': '7',\n",
       "  'movieId': '1954',\n",
       "  'rating': '4.5',\n",
       "  'timestamp': '1106635657'},\n",
       " {'userId': '7',\n",
       "  'movieId': '2019',\n",
       "  'rating': '5.0',\n",
       "  'timestamp': '1106713565'},\n",
       " {'userId': '7',\n",
       "  'movieId': '2324',\n",
       "  'rating': '2.0',\n",
       "  'timestamp': '1106712559'},\n",
       " {'userId': '7',\n",
       "  'movieId': '2353',\n",
       "  'rating': '3.5',\n",
       "  'timestamp': '1106635625'},\n",
       " {'userId': '7',\n",
       "  'movieId': '2529',\n",
       "  'rating': '5.0',\n",
       "  'timestamp': '1106635640'},\n",
       " {'userId': '7',\n",
       "  'movieId': '2628',\n",
       "  'rating': '1.5',\n",
       "  'timestamp': '1106712553'},\n",
       " {'userId': '7',\n",
       "  'movieId': '2640',\n",
       "  'rating': '3.0',\n",
       "  'timestamp': '1106635540'},\n",
       " {'userId': '7',\n",
       "  'movieId': '2671',\n",
       "  'rating': '4.5',\n",
       "  'timestamp': '1113542732'},\n",
       " {'userId': '7',\n",
       "  'movieId': '2683',\n",
       "  'rating': '2.0',\n",
       "  'timestamp': '1106635420'},\n",
       " {'userId': '7',\n",
       "  'movieId': '2688',\n",
       "  'rating': '2.5',\n",
       "  'timestamp': '1106713072'},\n",
       " {'userId': '7',\n",
       "  'movieId': '2701',\n",
       "  'rating': '1.5',\n",
       "  'timestamp': '1106713076'},\n",
       " {'userId': '7',\n",
       "  'movieId': '2717',\n",
       "  'rating': '3.5',\n",
       "  'timestamp': '1106713081'},\n",
       " {'userId': '7',\n",
       "  'movieId': '2762',\n",
       "  'rating': '4.5',\n",
       "  'timestamp': '1106635648'},\n",
       " {'userId': '7',\n",
       "  'movieId': '2858',\n",
       "  'rating': '4.0',\n",
       "  'timestamp': '1106712546'},\n",
       " {'userId': '7',\n",
       "  'movieId': '3114',\n",
       "  'rating': '4.5',\n",
       "  'timestamp': '1106635500'},\n",
       " {'userId': '7',\n",
       "  'movieId': '3354',\n",
       "  'rating': '1.5',\n",
       "  'timestamp': '1106713005'},\n",
       " {'userId': '7',\n",
       "  'movieId': '3408',\n",
       "  'rating': '4.5',\n",
       "  'timestamp': '1106712549'},\n",
       " {'userId': '7',\n",
       "  'movieId': '3578',\n",
       "  'rating': '1.5',\n",
       "  'timestamp': '1106636534'},\n",
       " {'userId': '7',\n",
       "  'movieId': '3623',\n",
       "  'rating': '1.0',\n",
       "  'timestamp': '1106712541'},\n",
       " {'userId': '7',\n",
       "  'movieId': '3793',\n",
       "  'rating': '3.5',\n",
       "  'timestamp': '1106635630'},\n",
       " {'userId': '7',\n",
       "  'movieId': '3869',\n",
       "  'rating': '5.0',\n",
       "  'timestamp': '1106635733'},\n",
       " {'userId': '7',\n",
       "  'movieId': '3916',\n",
       "  'rating': '4.0',\n",
       "  'timestamp': '1106636596'},\n",
       " {'userId': '7',\n",
       "  'movieId': '3977',\n",
       "  'rating': '2.5',\n",
       "  'timestamp': '1106635635'},\n",
       " {'userId': '7',\n",
       "  'movieId': '3994',\n",
       "  'rating': '3.0',\n",
       "  'timestamp': '1161738301'},\n",
       " {'userId': '7',\n",
       "  'movieId': '4018',\n",
       "  'rating': '4.0',\n",
       "  'timestamp': '1106712913'},\n",
       " {'userId': '7',\n",
       "  'movieId': '4223',\n",
       "  'rating': '2.0',\n",
       "  'timestamp': '1106635742'},\n",
       " {'userId': '7',\n",
       "  'movieId': '4246',\n",
       "  'rating': '2.0',\n",
       "  'timestamp': '1110855253'},\n",
       " {'userId': '7',\n",
       "  'movieId': '4306',\n",
       "  'rating': '4.0',\n",
       "  'timestamp': '1106635524'},\n",
       " {'userId': '7',\n",
       "  'movieId': '4310',\n",
       "  'rating': '0.5',\n",
       "  'timestamp': '1107127033'},\n",
       " {'userId': '7',\n",
       "  'movieId': '4370',\n",
       "  'rating': '4.5',\n",
       "  'timestamp': '1106712869'},\n",
       " {'userId': '7',\n",
       "  'movieId': '4643',\n",
       "  'rating': '1.0',\n",
       "  'timestamp': '1106635749'},\n",
       " {'userId': '7',\n",
       "  'movieId': '4700',\n",
       "  'rating': '1.5',\n",
       "  'timestamp': '1109746591'},\n",
       " {'userId': '7',\n",
       "  'movieId': '4844',\n",
       "  'rating': '1.5',\n",
       "  'timestamp': '1161738352'},\n",
       " {'userId': '7',\n",
       "  'movieId': '4874',\n",
       "  'rating': '3.0',\n",
       "  'timestamp': '1106635738'},\n",
       " {'userId': '7',\n",
       "  'movieId': '4886',\n",
       "  'rating': '4.0',\n",
       "  'timestamp': '1106636531'},\n",
       " {'userId': '7',\n",
       "  'movieId': '4896',\n",
       "  'rating': '4.0',\n",
       "  'timestamp': '1106636718'},\n",
       " {'userId': '7',\n",
       "  'movieId': '4963',\n",
       "  'rating': '4.0',\n",
       "  'timestamp': '1106636702'},\n",
       " {'userId': '7',\n",
       "  'movieId': '4993',\n",
       "  'rating': '4.5',\n",
       "  'timestamp': '1106636589'},\n",
       " {'userId': '7',\n",
       "  'movieId': '4995',\n",
       "  'rating': '4.5',\n",
       "  'timestamp': '1106636610'},\n",
       " {'userId': '7',\n",
       "  'movieId': '5218',\n",
       "  'rating': '3.5',\n",
       "  'timestamp': '1106712866'},\n",
       " {'userId': '7',\n",
       "  'movieId': '5349',\n",
       "  'rating': '3.5',\n",
       "  'timestamp': '1106636606'},\n",
       " {'userId': '7',\n",
       "  'movieId': '5378',\n",
       "  'rating': '0.5',\n",
       "  'timestamp': '1106635735'},\n",
       " {'userId': '7',\n",
       "  'movieId': '5445',\n",
       "  'rating': '4.0',\n",
       "  'timestamp': '1106636707'},\n",
       " {'userId': '7',\n",
       "  'movieId': '5459',\n",
       "  'rating': '3.0',\n",
       "  'timestamp': '1106712820'},\n",
       " {'userId': '7',\n",
       "  'movieId': '5464',\n",
       "  'rating': '3.0',\n",
       "  'timestamp': '1106636612'},\n",
       " {'userId': '7',\n",
       "  'movieId': '5502',\n",
       "  'rating': '1.5',\n",
       "  'timestamp': '1106635745'},\n",
       " {'userId': '7',\n",
       "  'movieId': '5618',\n",
       "  'rating': '5.0',\n",
       "  'timestamp': '1106713586'},\n",
       " {'userId': '7',\n",
       "  'movieId': '5816',\n",
       "  'rating': '4.5',\n",
       "  'timestamp': '1106635705'},\n",
       " {'userId': '7',\n",
       "  'movieId': '5952',\n",
       "  'rating': '4.5',\n",
       "  'timestamp': '1106636527'},\n",
       " {'userId': '7',\n",
       "  'movieId': '5989',\n",
       "  'rating': '4.0',\n",
       "  'timestamp': '1106636600'},\n",
       " {'userId': '7',\n",
       "  'movieId': '5991',\n",
       "  'rating': '4.5',\n",
       "  'timestamp': '1106712818'},\n",
       " {'userId': '7',\n",
       "  'movieId': '6333',\n",
       "  'rating': '4.0',\n",
       "  'timestamp': '1106636516'},\n",
       " {'userId': '7',\n",
       "  'movieId': '6365',\n",
       "  'rating': '4.0',\n",
       "  'timestamp': '1106712831'},\n",
       " {'userId': '7',\n",
       "  'movieId': '6534',\n",
       "  'rating': '0.5',\n",
       "  'timestamp': '1157949714'},\n",
       " {'userId': '7',\n",
       "  'movieId': '6539',\n",
       "  'rating': '4.5',\n",
       "  'timestamp': '1106636584'},\n",
       " {'userId': '7',\n",
       "  'movieId': '6863',\n",
       "  'rating': '4.5',\n",
       "  'timestamp': '1106712827'},\n",
       " {'userId': '7',\n",
       "  'movieId': '6934',\n",
       "  'rating': '2.0',\n",
       "  'timestamp': '1106712812'},\n",
       " {'userId': '7',\n",
       "  'movieId': '7143',\n",
       "  'rating': '4.5',\n",
       "  'timestamp': '1106636579'},\n",
       " {'userId': '7',\n",
       "  'movieId': '7153',\n",
       "  'rating': '4.0',\n",
       "  'timestamp': '1106636520'},\n",
       " {'userId': '7',\n",
       "  'movieId': '7155',\n",
       "  'rating': '3.0',\n",
       "  'timestamp': '1173051472'},\n",
       " {'userId': '7',\n",
       "  'movieId': '7445',\n",
       "  'rating': '4.0',\n",
       "  'timestamp': '1107473963'},\n",
       " {'userId': '7',\n",
       "  'movieId': '8207',\n",
       "  'rating': '4.5',\n",
       "  'timestamp': '1106713442'},\n",
       " {'userId': '7',\n",
       "  'movieId': '8360',\n",
       "  'rating': '3.5',\n",
       "  'timestamp': '1106636782'},\n",
       " {'userId': '7',\n",
       "  'movieId': '8368',\n",
       "  'rating': '2.5',\n",
       "  'timestamp': '1106636592'},\n",
       " {'userId': '7',\n",
       "  'movieId': '8373',\n",
       "  'rating': '2.0',\n",
       "  'timestamp': '1108602792'},\n",
       " {'userId': '7',\n",
       "  'movieId': '8528',\n",
       "  'rating': '4.5',\n",
       "  'timestamp': '1106636844'},\n",
       " {'userId': '7',\n",
       "  'movieId': '8636',\n",
       "  'rating': '4.5',\n",
       "  'timestamp': '1106636511'},\n",
       " {'userId': '7',\n",
       "  'movieId': '8665',\n",
       "  'rating': '3.5',\n",
       "  'timestamp': '1108602755'},\n",
       " {'userId': '7',\n",
       "  'movieId': '8666',\n",
       "  'rating': '1.0',\n",
       "  'timestamp': '1106779625'},\n",
       " {'userId': '7',\n",
       "  'movieId': '8783',\n",
       "  'rating': '1.0',\n",
       "  'timestamp': '1161738306'},\n",
       " {'userId': '7',\n",
       "  'movieId': '8798',\n",
       "  'rating': '4.5',\n",
       "  'timestamp': '1106636602'},\n",
       " {'userId': '7',\n",
       "  'movieId': '8808',\n",
       "  'rating': '1.5',\n",
       "  'timestamp': '1109746594'},\n",
       " {'userId': '7',\n",
       "  'movieId': '8865',\n",
       "  'rating': '1.0',\n",
       "  'timestamp': '1106713549'},\n",
       " {'userId': '7',\n",
       "  'movieId': '8870',\n",
       "  'rating': '3.5',\n",
       "  'timestamp': '1118025961'},\n",
       " {'userId': '7',\n",
       "  'movieId': '8907',\n",
       "  'rating': '1.0',\n",
       "  'timestamp': '1110757877'},\n",
       " {'userId': '7',\n",
       "  'movieId': '8908',\n",
       "  'rating': '4.5',\n",
       "  'timestamp': '1122333561'},\n",
       " {'userId': '7',\n",
       "  'movieId': '8949',\n",
       "  'rating': '4.0',\n",
       "  'timestamp': '1110757890'},\n",
       " {'userId': '7',\n",
       "  'movieId': '8957',\n",
       "  'rating': '4.0',\n",
       "  'timestamp': '1106636098'},\n",
       " {'userId': '7',\n",
       "  'movieId': '8958',\n",
       "  'rating': '3.5',\n",
       "  'timestamp': '1110173697'},\n",
       " {'userId': '7',\n",
       "  'movieId': '8961',\n",
       "  'rating': '4.0',\n",
       "  'timestamp': '1106636064'},\n",
       " {'userId': '7',\n",
       "  'movieId': '8965',\n",
       "  'rating': '1.0',\n",
       "  'timestamp': '1106636095'},\n",
       " {'userId': '7',\n",
       "  'movieId': '8970',\n",
       "  'rating': '2.5',\n",
       "  'timestamp': '1106636069'},\n",
       " {'userId': '7',\n",
       "  'movieId': '8972',\n",
       "  'rating': '2.5',\n",
       "  'timestamp': '1111552650'},\n",
       " {'userId': '7',\n",
       "  'movieId': '8984',\n",
       "  'rating': '4.0',\n",
       "  'timestamp': '1106636101'},\n",
       " {'userId': '7',\n",
       "  'movieId': '27741',\n",
       "  'rating': '3.0',\n",
       "  'timestamp': '1107474020'},\n",
       " {'userId': '7',\n",
       "  'movieId': '30812',\n",
       "  'rating': '3.5',\n",
       "  'timestamp': '1113353083'},\n",
       " {'userId': '7',\n",
       "  'movieId': '30816',\n",
       "  'rating': '2.0',\n",
       "  'timestamp': '1107127004'}]"
      ]
     },
     "execution_count": 4,
     "metadata": {},
     "output_type": "execute_result"
    }
   ],
   "source": [
    "links = Links(lines=100)\n",
    "tags = Tags(lines=1000)\n",
    "movies = Movies(lines=1000)\n",
    "ratings = Ratings(lines=1000)\n",
    "movies_ratings = ratings.Movies(ratings.data, movies.data)\n",
    "users = ratings.Users(ratings.data, movies.data)\n",
    "\n",
    "links.read_csv()\n",
    "tags.read_csv()\n",
    "movies.read_csv()\n",
    "ratings.read_csv()"
   ]
  },
  {
   "cell_type": "markdown",
   "id": "525d56b8-bdc2-4056-bc8e-b01595e15e27",
   "metadata": {},
   "source": [
    "# Выводим результаты работы методов"
   ]
  },
  {
   "cell_type": "markdown",
   "id": "6662890c-9184-4a22-a10d-1ce0221c2295",
   "metadata": {
    "jp-MarkdownHeadingCollapsed": true
   },
   "source": [
    "## Методы класса Links"
   ]
  },
  {
   "cell_type": "code",
   "execution_count": 5,
   "id": "f17fe338-8102-450f-8ac8-f8faad1dce06",
   "metadata": {},
   "outputs": [
    {
     "data": {
      "text/plain": [
       "{'Martin Scorsese': 2,\n",
       " 'Robert Rodriguez': 2,\n",
       " 'Joe Johnston': 1,\n",
       " 'Howard Deutch': 1,\n",
       " 'Forest Whitaker': 1,\n",
       " 'Charles Shyer': 1,\n",
       " 'Michael Mann': 1,\n",
       " 'Sydney Pollack': 1,\n",
       " 'Peter Hewitt': 1,\n",
       " 'Peter Hyams': 1}"
      ]
     },
     "execution_count": 5,
     "metadata": {},
     "output_type": "execute_result"
    }
   ],
   "source": [
    "links.top_directors(10)"
   ]
  },
  {
   "cell_type": "code",
   "execution_count": 6,
   "id": "5511d910-8500-46da-89a9-2a215ef587f9",
   "metadata": {},
   "outputs": [
    {
     "name": "stdout",
     "output_type": "stream",
     "text": [
      "60 μs ± 3.98 μs per loop (mean ± std. dev. of 7 runs, 10,000 loops each)\n"
     ]
    }
   ],
   "source": [
    "%%timeit\n",
    "links.top_directors(10)"
   ]
  },
  {
   "cell_type": "markdown",
   "id": "4b80e01f-d6a3-4c03-ae70-474ab9420321",
   "metadata": {},
   "source": [
    "#### В ходе выполнения метода top_directors() можно получить топ режиссеров по количеству снятых картин. Исходя из работы метода выше можно увидеть, что режиссеры Martin Scorsese и Robert Rodriguez сняли по 2 фильма"
   ]
  },
  {
   "cell_type": "code",
   "execution_count": 7,
   "id": "e9750fcd-36fe-4885-8649-0a5070adffca",
   "metadata": {},
   "outputs": [
    {
     "data": {
      "text/plain": [
       "{'Остров головорезов': 98000000,\n",
       " 'Храброе сердце': 72000000,\n",
       " 'Денежный поезд': 68000000,\n",
       " 'Джуманджи': 65000000,\n",
       " 'Американский президент': 62000000,\n",
       " 'Схватка': 60000000,\n",
       " 'Золотой глаз': 60000000,\n",
       " 'Сабрина': 58000000,\n",
       " 'Покахонтас': 55000000,\n",
       " 'Казино': 52000000}"
      ]
     },
     "execution_count": 7,
     "metadata": {},
     "output_type": "execute_result"
    }
   ],
   "source": [
    "links.most_expensive(10)"
   ]
  },
  {
   "cell_type": "code",
   "execution_count": 8,
   "id": "c0a3a8f6-8e65-440b-9e8d-a698d67ef26e",
   "metadata": {},
   "outputs": [
    {
     "name": "stdout",
     "output_type": "stream",
     "text": [
      "36.4 μs ± 1.29 μs per loop (mean ± std. dev. of 7 runs, 10,000 loops each)\n"
     ]
    }
   ],
   "source": [
    "%%timeit\n",
    "links.most_expensive(10)"
   ]
  },
  {
   "cell_type": "markdown",
   "id": "9cbe98b3-aebd-4b83-b0d4-217de827dee9",
   "metadata": {},
   "source": [
    "#### В ходе выполнения метода most_expensive() можно получить топ фильмов по бюджету. Исходя из работы метода выше можно увидеть, что у фильма \"Остров головорезов\" был самый высокий бюджет - $98.000.000"
   ]
  },
  {
   "cell_type": "code",
   "execution_count": 53,
   "id": "e944a19f",
   "metadata": {},
   "outputs": [
    {
     "data": {
      "text/plain": [
       "{'Золотой глаз': 352194034,\n",
       " 'Покахонтас': 346079773,\n",
       " 'Семь': 328886817,\n",
       " 'Джуманджи': 262821940,\n",
       " 'Бэйб: Четвероногий малыш': 254134910,\n",
       " 'Храброе сердце': 213216216,\n",
       " 'Эйс Вентура 2: Когда зовёт природа': 212385533,\n",
       " 'Схватка': 187436818,\n",
       " 'Мосты округа Мэдисон': 182016617,\n",
       " 'Опасные умы': 179519401}"
      ]
     },
     "execution_count": 53,
     "metadata": {},
     "output_type": "execute_result"
    }
   ],
   "source": [
    "links.most_total_collection(10)"
   ]
  },
  {
   "cell_type": "code",
   "execution_count": 10,
   "id": "2ea9a193",
   "metadata": {},
   "outputs": [
    {
     "name": "stdout",
     "output_type": "stream",
     "text": [
      "38.7 μs ± 5.22 μs per loop (mean ± std. dev. of 7 runs, 10,000 loops each)\n"
     ]
    }
   ],
   "source": [
    "%%timeit\n",
    "links.most_total_collection(10)"
   ]
  },
  {
   "cell_type": "markdown",
   "id": "9b518058",
   "metadata": {},
   "source": [
    "#### В ходе выполнения метода most_total_collection() можно получить топ фильмов по сборам. Исходя из работы метода выше можно увидеть, что у фильма \"История игрушек\" была самая высокие сборы - $394.436.586"
   ]
  },
  {
   "cell_type": "code",
   "execution_count": 11,
   "id": "b8d4b0ca-3261-4cce-b768-665edb72555d",
   "metadata": {},
   "outputs": [
    {
     "data": {
      "text/plain": [
       "{'Семь': 295886817,\n",
       " 'Золотой глаз': 292194034,\n",
       " 'Покахонтас': 291079773,\n",
       " 'Бэйб: Четвероногий малыш': 224134910,\n",
       " 'Джуманджи': 197821940,\n",
       " 'Эйс Вентура 2: Когда зовёт природа': 182385533,\n",
       " 'Мосты округа Мэдисон': 158016617,\n",
       " 'Опасные умы': 156519401,\n",
       " 'Храброе сердце': 141216216,\n",
       " '12 обезьян': 139839459}"
      ]
     },
     "execution_count": 11,
     "metadata": {},
     "output_type": "execute_result"
    }
   ],
   "source": [
    "links.most_profitable(10)"
   ]
  },
  {
   "cell_type": "code",
   "execution_count": 12,
   "id": "db71acd8-b944-4d6f-aaed-c7930b8b6ca4",
   "metadata": {},
   "outputs": [
    {
     "name": "stdout",
     "output_type": "stream",
     "text": [
      "60.2 μs ± 1.61 μs per loop (mean ± std. dev. of 7 runs, 10,000 loops each)\n"
     ]
    }
   ],
   "source": [
    "%%timeit\n",
    "links.most_profitable(10)"
   ]
  },
  {
   "cell_type": "markdown",
   "id": "211964fb-719b-4175-8035-cc49fe0c8992",
   "metadata": {},
   "source": [
    "#### В ходе выполнения метода most_profitable() можно получить топ фильмов по прибыли(мировой доход - бюджет на производство). К примеру исходя из работы метода выше можно увидеть, что у фильма 'История игрушек' самая большая прибыль равная - $364.436.586"
   ]
  },
  {
   "cell_type": "code",
   "execution_count": 13,
   "id": "f284b8a9-49de-40c0-99f0-caf231148a0b",
   "metadata": {},
   "outputs": [
    {
     "data": {
      "text/plain": [
       "{'Никсон': 192,\n",
       " 'Казино': 178,\n",
       " 'Храброе сердце': 178,\n",
       " 'Отверженные': 175,\n",
       " 'Схватка': 170,\n",
       " 'Опус мистера Холланда': 144,\n",
       " 'Разум и чувства': 136,\n",
       " 'Мосты округа Мэдисон': 135,\n",
       " 'Наемные убийцы': 133,\n",
       " 'Золотой глаз': 130}"
      ]
     },
     "execution_count": 13,
     "metadata": {},
     "output_type": "execute_result"
    }
   ],
   "source": [
    "links.longest(10)"
   ]
  },
  {
   "cell_type": "code",
   "execution_count": 14,
   "id": "3e699d0e-ed3e-4cb8-a2bd-a4bade9ee816",
   "metadata": {},
   "outputs": [
    {
     "name": "stdout",
     "output_type": "stream",
     "text": [
      "29.5 μs ± 661 ns per loop (mean ± std. dev. of 7 runs, 10,000 loops each)\n"
     ]
    }
   ],
   "source": [
    "%%timeit\n",
    "links.longest(10)"
   ]
  },
  {
   "cell_type": "markdown",
   "id": "8a3b147d-3af0-422c-bed8-4c3e987cc502",
   "metadata": {},
   "source": [
    "#### В ходе выполнения метода longest() можно получить топ фильмов по продолжительности. Исходя из работы метода выше можно увидеть, что фильм 'Никсон' самый продолжительный в выборке - 192мин"
   ]
  },
  {
   "cell_type": "code",
   "execution_count": 15,
   "id": "ef37bbca-15ce-49da-ade7-32a4a7e8a716",
   "metadata": {},
   "outputs": [
    {
     "data": {
      "text/plain": [
       "{'Остров головорезов': 790322.58,\n",
       " 'Покахонтас': 679012.35,\n",
       " 'Джуманджи': 625000.0,\n",
       " 'Денежный поезд': 618181.82,\n",
       " 'Чeстная игра': 549450.55,\n",
       " 'Американский президент': 543859.65,\n",
       " 'Индеец в шкафу': 468750.0,\n",
       " 'Сломанная стрела': 462962.96,\n",
       " 'Золотой глаз': 461538.46,\n",
       " 'Сабрина': 456692.91}"
      ]
     },
     "execution_count": 15,
     "metadata": {},
     "output_type": "execute_result"
    }
   ],
   "source": [
    "links.top_cost_per_minute(10)\n"
   ]
  },
  {
   "cell_type": "code",
   "execution_count": 16,
   "id": "be58540f-1518-4f36-99ee-5922fc614314",
   "metadata": {},
   "outputs": [
    {
     "name": "stdout",
     "output_type": "stream",
     "text": [
      "165 μs ± 4.99 μs per loop (mean ± std. dev. of 7 runs, 10,000 loops each)\n"
     ]
    }
   ],
   "source": [
    "%%timeit\n",
    "links.top_cost_per_minute(10)"
   ]
  },
  {
   "cell_type": "markdown",
   "id": "16667c6e-6a16-4e89-9a95-3e37929df238",
   "metadata": {},
   "source": [
    "#### В ходе выполнения метода top_cost_per_minute() можно получить результат стоимости 1 минуты фильма. Исходя из работы метода выше можно увидеть, что фильм 'Остров головорезов' по результатам вычислений имеет наибольшее значение - $790.322,58"
   ]
  },
  {
   "cell_type": "code",
   "execution_count": 17,
   "id": "38e9f5df",
   "metadata": {},
   "outputs": [
    {
     "data": {
      "text/plain": [
       "{'Семь': 8.6,\n",
       " 'Подозрительные лица': 8.5,\n",
       " 'Схватка': 8.3,\n",
       " 'Храброе сердце': 8.3,\n",
       " 'Казино': 8.2,\n",
       " 'Таксист': 8.2,\n",
       " 'Ненависть': 8.1,\n",
       " '12 обезьян': 8.0,\n",
       " 'Почтальон': 7.8,\n",
       " 'Разум и чувства': 7.7}"
      ]
     },
     "execution_count": 17,
     "metadata": {},
     "output_type": "execute_result"
    }
   ],
   "source": [
    "links.most_ratings(10)"
   ]
  },
  {
   "cell_type": "code",
   "execution_count": 18,
   "id": "580b1105",
   "metadata": {},
   "outputs": [
    {
     "name": "stdout",
     "output_type": "stream",
     "text": [
      "27.5 μs ± 1.16 μs per loop (mean ± std. dev. of 7 runs, 10,000 loops each)\n"
     ]
    }
   ],
   "source": [
    "%%timeit\n",
    "links.most_ratings(10)"
   ]
  },
  {
   "cell_type": "markdown",
   "id": "407c41eb",
   "metadata": {},
   "source": [
    "#### В ходе выполнения метода most_ratings() можно получить топ фильмов по рейтингу. Исходя из работы метода выше можно увидеть, что фильм 'Семь' самый рейтинговый - 8.6"
   ]
  },
  {
   "cell_type": "code",
   "execution_count": 54,
   "id": "55457e67",
   "metadata": {},
   "outputs": [
    {
     "data": {
      "text/plain": [
       "{'Семь': 129,\n",
       " 'Схватка': 261,\n",
       " 'Таксист': 286,\n",
       " 'Подозрительные лица': 302,\n",
       " 'Храброе сердце': 402,\n",
       " 'От заката до рассвета': 509,\n",
       " 'Казино': 734,\n",
       " 'Достать коротышку': 761,\n",
       " 'Джуманджи': 960,\n",
       " 'Разум и чувства': 965,\n",
       " 'Бестолковые': 1061,\n",
       " 'Счастливчик Гилмор': 1235,\n",
       " '12 обезьян': 1257,\n",
       " 'Золотой глаз': 1264,\n",
       " 'Пятница': 1420,\n",
       " 'Мертвец идет': 1463,\n",
       " 'Покидая Лас-Вегас': 1711,\n",
       " 'Покахонтас': 2061,\n",
       " 'Ненависть': 2253,\n",
       " 'Умереть во имя': 2420,\n",
       " 'Мосты округа Мэдисон': 2427,\n",
       " 'Смертельная битва': 2544,\n",
       " 'Сейчас и тогда': 2783,\n",
       " 'Опус мистера Холланда': 2987,\n",
       " 'Доводы рассудка': 3069,\n",
       " 'Не грози южному централу, попивая сок у себя в квартале': 3661,\n",
       " 'Эйс Вентура 2: Когда зовёт природа': 3673,\n",
       " 'Бэйб: Четвероногий малыш': 3977,\n",
       " 'Пудра': 4072,\n",
       " 'Четыре комнаты': 4268}"
      ]
     },
     "execution_count": 54,
     "metadata": {},
     "output_type": "execute_result"
    }
   ],
   "source": [
    "links.most_popularity(30)"
   ]
  },
  {
   "cell_type": "code",
   "execution_count": 20,
   "id": "8c832629",
   "metadata": {},
   "outputs": [
    {
     "name": "stdout",
     "output_type": "stream",
     "text": [
      "16.4 μs ± 180 ns per loop (mean ± std. dev. of 7 runs, 100,000 loops each)\n"
     ]
    }
   ],
   "source": [
    "%%timeit\n",
    "links.most_popularity(10)"
   ]
  },
  {
   "cell_type": "markdown",
   "id": "4b24da35",
   "metadata": {},
   "source": [
    "#### В ходе выполнения метода most_popularity() можно получить топ фильмов по поулярности. Исходя из работы метода выше можно увидеть, что фильм 'Семь' самый популярный - занимает 129 строчку"
   ]
  },
  {
   "cell_type": "markdown",
   "id": "f227cb02-0f1e-4a13-9c75-d2b36c6c0735",
   "metadata": {},
   "source": [
    "## Методы класса Tags"
   ]
  },
  {
   "cell_type": "code",
   "execution_count": 21,
   "id": "735f6e77-ac5b-470b-bf13-caa5ad7a13ee",
   "metadata": {},
   "outputs": [
    {
     "data": {
      "text/plain": [
       "{'Something for everyone in this one... saw it without and plan on seeing it with kids!': 16,\n",
       " 'the catholic church is the most corrupt organization in history': 10,\n",
       " 'Oscar (Best Music - Original Score)': 6,\n",
       " 'Everything you want is here': 5,\n",
       " 'based on a true story': 5}"
      ]
     },
     "execution_count": 21,
     "metadata": {},
     "output_type": "execute_result"
    }
   ],
   "source": [
    "tags.most_words(5)"
   ]
  },
  {
   "cell_type": "code",
   "execution_count": 22,
   "id": "c4f2f7a2-7455-482d-ac98-a96576578b22",
   "metadata": {},
   "outputs": [
    {
     "name": "stdout",
     "output_type": "stream",
     "text": [
      "341 μs ± 18 μs per loop (mean ± std. dev. of 7 runs, 1,000 loops each)\n"
     ]
    }
   ],
   "source": [
    "%%timeit\n",
    "tags.most_words(5)"
   ]
  },
  {
   "cell_type": "markdown",
   "id": "3c306d27-7a9b-4bc6-a6c7-635a7d6160a1",
   "metadata": {},
   "source": [
    "#### В ходе выполнения метода most_words() можно получить топ тегов по количеству слов. Из работы метода видно, что из выборки наибольшее количество слов в теге равняется 16"
   ]
  },
  {
   "cell_type": "code",
   "execution_count": 23,
   "id": "93257746-528e-4cda-bb0f-7309042b7df9",
   "metadata": {},
   "outputs": [
    {
     "data": {
      "text/plain": [
       "['Something for everyone in this one... saw it without and plan on seeing it with kids!',\n",
       " 'the catholic church is the most corrupt organization in history',\n",
       " 'audience intelligence underestimated',\n",
       " 'Oscar (Best Music - Original Score)',\n",
       " 'assassin-in-training (scene)']"
      ]
     },
     "execution_count": 23,
     "metadata": {},
     "output_type": "execute_result"
    }
   ],
   "source": [
    "tags.longest(5)"
   ]
  },
  {
   "cell_type": "code",
   "execution_count": 24,
   "id": "60dc4896-b218-4c38-b2e6-5f1bcf4057e2",
   "metadata": {},
   "outputs": [
    {
     "name": "stdout",
     "output_type": "stream",
     "text": [
      "70.5 μs ± 1.17 μs per loop (mean ± std. dev. of 7 runs, 10,000 loops each)\n"
     ]
    }
   ],
   "source": [
    "%%timeit\n",
    "tags.longest(5)"
   ]
  },
  {
   "cell_type": "markdown",
   "id": "64ce128b-dddb-4a92-9efd-8a3deedf5e4f",
   "metadata": {},
   "source": [
    "#### Метод longest() возвращает список самых длинных тегов по количеству символов(включая пробел)."
   ]
  },
  {
   "cell_type": "code",
   "execution_count": 55,
   "id": "0a5cf50f-d223-4db6-9224-562f8ab90bbd",
   "metadata": {},
   "outputs": [
    {
     "data": {
      "text/plain": [
       "['Something for everyone in this one... saw it without and plan on seeing it with kids!',\n",
       " 'the catholic church is the most corrupt organization in history',\n",
       " 'Oscar (Best Music - Original Score)',\n",
       " 'Everything you want is here',\n",
       " 'Guardians of the Galaxy']"
      ]
     },
     "execution_count": 55,
     "metadata": {},
     "output_type": "execute_result"
    }
   ],
   "source": [
    "tags.most_words_and_longest(10)"
   ]
  },
  {
   "cell_type": "code",
   "execution_count": 26,
   "id": "2f21fe9f-91b2-42c0-bb7b-302e01db0b51",
   "metadata": {},
   "outputs": [
    {
     "name": "stdout",
     "output_type": "stream",
     "text": [
      "452 μs ± 18.5 μs per loop (mean ± std. dev. of 7 runs, 1,000 loops each)\n"
     ]
    }
   ],
   "source": [
    "%%timeit\n",
    "tags.most_words_and_longest(5)"
   ]
  },
  {
   "cell_type": "markdown",
   "id": "d9738d5a-4f77-4819-bfd3-eb780b14cb4c",
   "metadata": {},
   "source": [
    "#### Метод most_words_and_longest() возвращает пересечение между тегами с наибольшим количеством слов внутри и тегами с наибольшей длиной по количеству символов"
   ]
  },
  {
   "cell_type": "code",
   "execution_count": 27,
   "id": "52aad254-8295-44ab-ac11-fbab0254eacb",
   "metadata": {},
   "outputs": [
    {
     "data": {
      "text/plain": [
       "{'funny': 15,\n",
       " 'sci-fi': 14,\n",
       " 'twist ending': 12,\n",
       " 'dark comedy': 12,\n",
       " 'atmospheric': 10}"
      ]
     },
     "execution_count": 27,
     "metadata": {},
     "output_type": "execute_result"
    }
   ],
   "source": [
    "tags.most_popular(5)"
   ]
  },
  {
   "cell_type": "code",
   "execution_count": 28,
   "id": "f57e4dd7-1354-4641-8736-e1f67840d5d9",
   "metadata": {},
   "outputs": [
    {
     "name": "stdout",
     "output_type": "stream",
     "text": [
      "278 μs ± 6.72 μs per loop (mean ± std. dev. of 7 runs, 1,000 loops each)\n"
     ]
    }
   ],
   "source": [
    "%%timeit\n",
    "tags.most_popular(5)"
   ]
  },
  {
   "cell_type": "markdown",
   "id": "c4611a1c-3756-4656-9d3f-ad19173c039d",
   "metadata": {},
   "source": [
    "#### Метод most_popular() возвращает самые популярные теги. Исходя из работы метода видим, что наиболее популярным тегом является тег 'funny', встречабщийся 15 раз"
   ]
  },
  {
   "cell_type": "code",
   "execution_count": 29,
   "id": "fbcc3dd9-0e34-4608-9ee0-afa3636deabb",
   "metadata": {},
   "outputs": [
    {
     "data": {
      "text/plain": [
       "['funny', 'stupid but funny', 'very funny']"
      ]
     },
     "execution_count": 29,
     "metadata": {},
     "output_type": "execute_result"
    }
   ],
   "source": [
    "tags.tags_with('funny')"
   ]
  },
  {
   "cell_type": "code",
   "execution_count": 30,
   "id": "5f0359da-f2a3-4372-b247-5ee98d38038d",
   "metadata": {},
   "outputs": [
    {
     "name": "stdout",
     "output_type": "stream",
     "text": [
      "139 μs ± 4.61 μs per loop (mean ± std. dev. of 7 runs, 10,000 loops each)\n"
     ]
    }
   ],
   "source": [
    "%%timeit\n",
    "tags.tags_with('funny')"
   ]
  },
  {
   "cell_type": "markdown",
   "id": "2e106a31-944f-4e87-a6f8-288666d3fa53",
   "metadata": {},
   "source": [
    "#### Метод tags_with() возвращает уникальные теги, содержащие слово. Исходя из работы метода мы видим, что есть 3 уникальных тега, содержащих слово 'funny'"
   ]
  },
  {
   "cell_type": "markdown",
   "id": "7cce4f07-5858-4b32-a8e4-2fefee9710da",
   "metadata": {
    "jp-MarkdownHeadingCollapsed": true
   },
   "source": [
    "## Методы класса Movies"
   ]
  },
  {
   "cell_type": "code",
   "execution_count": 31,
   "id": "9079d13e-5f27-461d-9b49-8a69fa6b3eda",
   "metadata": {},
   "outputs": [
    {
     "data": {
      "text/plain": [
       "{1995: 224,\n",
       " 1994: 184,\n",
       " 1996: 181,\n",
       " 1993: 101,\n",
       " 1992: 23,\n",
       " 1990: 15,\n",
       " 1991: 15,\n",
       " 1989: 14,\n",
       " 1986: 9,\n",
       " 1982: 8,\n",
       " 1940: 8,\n",
       " 1957: 8,\n",
       " 1987: 8,\n",
       " 1980: 8,\n",
       " 1981: 7,\n",
       " 1988: 7,\n",
       " 1979: 7,\n",
       " 1955: 6,\n",
       " 1959: 6,\n",
       " 1968: 6,\n",
       " 1997: 6,\n",
       " 1939: 6,\n",
       " 1985: 6,\n",
       " 1967: 5,\n",
       " 1965: 5,\n",
       " 1951: 5,\n",
       " 1958: 5,\n",
       " 1944: 5,\n",
       " 1941: 5,\n",
       " 1975: 5,\n",
       " 1971: 5,\n",
       " 1984: 5,\n",
       " 1964: 4,\n",
       " 1973: 4,\n",
       " 1954: 4,\n",
       " 1934: 4,\n",
       " 1960: 4,\n",
       " 1963: 4,\n",
       " 1950: 4,\n",
       " 1974: 4,\n",
       " 1983: 4,\n",
       " 1977: 3,\n",
       " 1937: 3,\n",
       " 1972: 3,\n",
       " 1952: 3,\n",
       " 1961: 3,\n",
       " 1953: 3,\n",
       " 1946: 3,\n",
       " 1938: 3,\n",
       " 1956: 3,\n",
       " 1962: 3,\n",
       " 1976: 2,\n",
       " 1969: 2,\n",
       " 1970: 2,\n",
       " 1942: 2,\n",
       " 1945: 2,\n",
       " 1947: 2,\n",
       " 1935: 2,\n",
       " 1936: 2,\n",
       " 1949: 2,\n",
       " 1978: 2,\n",
       " 1943: 1,\n",
       " 1932: 1,\n",
       " 1966: 1,\n",
       " 1948: 1,\n",
       " 1933: 1,\n",
       " 1931: 1}"
      ]
     },
     "execution_count": 31,
     "metadata": {},
     "output_type": "execute_result"
    }
   ],
   "source": [
    "movies.dist_by_release()"
   ]
  },
  {
   "cell_type": "code",
   "execution_count": 32,
   "id": "81cd40f0-25e4-4d11-ac7c-e8eb62eedcfb",
   "metadata": {},
   "outputs": [
    {
     "name": "stdout",
     "output_type": "stream",
     "text": [
      "531 μs ± 17.1 μs per loop (mean ± std. dev. of 7 runs, 1,000 loops each)\n"
     ]
    }
   ],
   "source": [
    "%%timeit\n",
    "movies.dist_by_release()"
   ]
  },
  {
   "cell_type": "markdown",
   "id": "b13c62e6-175f-432c-a23e-ff69d77b86c5",
   "metadata": {},
   "source": [
    "#### Метод dist_by_release() возвращает количество фильмов по годам. В результате работs метода мы видим, что исходя из выборки наибольшее количество фильмов произведено 1995, их 224"
   ]
  },
  {
   "cell_type": "code",
   "execution_count": 33,
   "id": "5ce13f57-ed9f-4d69-abd0-6b2b90ff6ee0",
   "metadata": {},
   "outputs": [
    {
     "data": {
      "text/plain": [
       "{'Drama': 507,\n",
       " 'Comedy': 365,\n",
       " 'Romance': 208,\n",
       " 'Thriller': 179,\n",
       " 'Action': 158,\n",
       " 'Adventure': 126,\n",
       " 'Crime': 122,\n",
       " 'Children': 100,\n",
       " 'Fantasy': 69,\n",
       " 'Sci-Fi': 69,\n",
       " 'Mystery': 58,\n",
       " 'Musical': 53,\n",
       " 'Horror': 51,\n",
       " 'War': 48,\n",
       " 'Animation': 37,\n",
       " 'Documentary': 25,\n",
       " 'Western': 23,\n",
       " 'Film-Noir': 18,\n",
       " '(no genres listed)': 3}"
      ]
     },
     "execution_count": 33,
     "metadata": {},
     "output_type": "execute_result"
    }
   ],
   "source": [
    "movies.dist_by_genres()"
   ]
  },
  {
   "cell_type": "code",
   "execution_count": 34,
   "id": "44802e22-2563-48f3-8dc9-d1bd2782472e",
   "metadata": {},
   "outputs": [
    {
     "name": "stdout",
     "output_type": "stream",
     "text": [
      "1.5 ms ± 39.2 μs per loop (mean ± std. dev. of 7 runs, 1,000 loops each)\n"
     ]
    }
   ],
   "source": [
    "%%timeit\n",
    "movies.dist_by_genres()"
   ]
  },
  {
   "cell_type": "markdown",
   "id": "c4a97828-6d2d-4e58-8bfd-f92a4035dd1d",
   "metadata": {},
   "source": [
    "#### Метод dist_by_genres() возвращает количество по жанров. В результате работs метода мы видим, что исходя из выборки наибольшее количество жанров это 'Drama', их 507"
   ]
  },
  {
   "cell_type": "code",
   "execution_count": 35,
   "id": "fe334c7a-d5ed-4468-a667-8672abdf39d6",
   "metadata": {},
   "outputs": [
    {
     "data": {
      "text/plain": [
       "{'Drama': 507, 'Comedy': 365, 'Romance': 208, 'Thriller': 179, 'Action': 158}"
      ]
     },
     "execution_count": 35,
     "metadata": {},
     "output_type": "execute_result"
    }
   ],
   "source": [
    "movies.most_genres(5)"
   ]
  },
  {
   "cell_type": "code",
   "execution_count": 36,
   "id": "2fdb962b-a81c-4d3b-9522-14ac2396da9e",
   "metadata": {},
   "outputs": [
    {
     "name": "stdout",
     "output_type": "stream",
     "text": [
      "1.5 ms ± 16 μs per loop (mean ± std. dev. of 7 runs, 1,000 loops each)\n"
     ]
    }
   ],
   "source": [
    "%%timeit\n",
    "movies.most_genres(5)"
   ]
  },
  {
   "cell_type": "markdown",
   "id": "fe2e20b8-3f62-4edc-93d6-cc1a1375eb1a",
   "metadata": {},
   "source": [
    "### Метод most_genres() возвращает топ жанров. В результате работы метода мы видим, что исходя из выборки наименьшее количество жанров из топ 5 это 'Action', их 158"
   ]
  },
  {
   "cell_type": "markdown",
   "id": "66893329-a562-4c47-b450-c9a95a8731f3",
   "metadata": {
    "jp-MarkdownHeadingCollapsed": true
   },
   "source": [
    "## Методы класса Ratings.Movies"
   ]
  },
  {
   "cell_type": "code",
   "execution_count": 37,
   "id": "a8a4a41d-f980-4b1c-8674-b724a152f832",
   "metadata": {},
   "outputs": [
    {
     "data": {
      "text/plain": [
       "{2015: 29,\n",
       " 2011: 39,\n",
       " 2007: 1,\n",
       " 2006: 4,\n",
       " 2005: 121,\n",
       " 2001: 70,\n",
       " 2000: 296,\n",
       " 1999: 82,\n",
       " 1996: 358}"
      ]
     },
     "execution_count": 37,
     "metadata": {},
     "output_type": "execute_result"
    }
   ],
   "source": [
    "movies_ratings.dist_by_year()"
   ]
  },
  {
   "cell_type": "code",
   "execution_count": 38,
   "id": "d4be363d-cc03-4905-9445-772bdba71148",
   "metadata": {},
   "outputs": [
    {
     "name": "stdout",
     "output_type": "stream",
     "text": [
      "1.06 ms ± 20 μs per loop (mean ± std. dev. of 7 runs, 1,000 loops each)\n"
     ]
    }
   ],
   "source": [
    "%%timeit\n",
    "movies_ratings.dist_by_year()"
   ]
  },
  {
   "cell_type": "markdown",
   "id": "03d10dd0-69ec-4f65-a035-7ca20b2c2eea",
   "metadata": {},
   "source": [
    "#### В ходе выполнения метода dist_by_year() можно получить количество фильмов по годам. Из работы метода видно распределение фильмов по годам"
   ]
  },
  {
   "cell_type": "code",
   "execution_count": 39,
   "id": "f202be3d-af0b-49f4-8655-e7bc9476c08a",
   "metadata": {},
   "outputs": [
    {
     "data": {
      "text/plain": [
       "{0.5: 24,\n",
       " 1.0: 39,\n",
       " 1.5: 11,\n",
       " 2.0: 57,\n",
       " 2.5: 7,\n",
       " 3.0: 253,\n",
       " 3.5: 17,\n",
       " 4.0: 292,\n",
       " 4.5: 33,\n",
       " 5.0: 267}"
      ]
     },
     "execution_count": 39,
     "metadata": {},
     "output_type": "execute_result"
    }
   ],
   "source": [
    "movies_ratings.dist_by_rating()"
   ]
  },
  {
   "cell_type": "code",
   "execution_count": 40,
   "id": "a1e21e8e-9cab-4d3f-9e76-9f8393dd6b65",
   "metadata": {},
   "outputs": [
    {
     "name": "stdout",
     "output_type": "stream",
     "text": [
      "489 μs ± 21.2 μs per loop (mean ± std. dev. of 7 runs, 1,000 loops each)\n"
     ]
    }
   ],
   "source": [
    "%%timeit\n",
    "movies_ratings.dist_by_rating()"
   ]
  },
  {
   "cell_type": "markdown",
   "id": "533e204e-cd43-45c7-bb14-6385bc653b6d",
   "metadata": {},
   "source": [
    "#### В ходе выполнения метода dist_by_rating() можно получить количсетво фильмов по оценкам. Из работы метода видно распределение фильмов по оценкам"
   ]
  },
  {
   "cell_type": "code",
   "execution_count": 56,
   "id": "a5431aba-986f-4b6f-ab7b-010f2dc158da",
   "metadata": {},
   "outputs": [
    {
     "data": {
      "text/plain": [
       "{'Usual Suspects The': 4,\n",
       " 'Pulp Fiction': 4,\n",
       " 'Fugitive The': 4,\n",
       " \"Schindler's List\": 4,\n",
       " 'Batman': 4,\n",
       " 'Silence of the Lambs The': 4,\n",
       " 'Fargo': 4,\n",
       " 'Aladdin': 4,\n",
       " 'Beauty and the Beast': 4,\n",
       " 'Toy Story': 3,\n",
       " 'Seven (a.k.a. Se7en)': 3,\n",
       " 'Braveheart': 3,\n",
       " 'Star Wars: Episode IV - A New Hope': 3,\n",
       " 'Stargate': 3,\n",
       " 'Tommy Boy': 3,\n",
       " 'Clear and Present Danger': 3,\n",
       " 'Forrest Gump': 3,\n",
       " 'Mask The': 3,\n",
       " 'Jurassic Park': 3,\n",
       " 'Tombstone': 3}"
      ]
     },
     "execution_count": 56,
     "metadata": {},
     "output_type": "execute_result"
    }
   ],
   "source": [
    "movies_ratings.top_by_num_of_ratings(20)"
   ]
  },
  {
   "cell_type": "code",
   "execution_count": 42,
   "id": "e03bd319-c0ae-4c35-b330-43bb6d82e1d5",
   "metadata": {},
   "outputs": [
    {
     "name": "stdout",
     "output_type": "stream",
     "text": [
      "129 ms ± 4.82 ms per loop (mean ± std. dev. of 7 runs, 10 loops each)\n"
     ]
    }
   ],
   "source": [
    "%%timeit\n",
    "movies_ratings.top_by_num_of_ratings(10)"
   ]
  },
  {
   "cell_type": "markdown",
   "id": "444246af-dd6b-4bca-8d3d-045e4335f1b2",
   "metadata": {},
   "source": [
    "#### В ходе выполнения метода top_by_num_of_ratings() можно получить количсетво рейтингов по фильмам. Из работы метода видно, как выглядит топ-10 по рейтингам"
   ]
  },
  {
   "cell_type": "code",
   "execution_count": 43,
   "id": "34629d20-4ac5-443a-8bb6-b7872645c0d9",
   "metadata": {},
   "outputs": [
    {
     "data": {
      "text/plain": [
       "{'Grumpier Old Men': 5.0,\n",
       " 'Bottle Rocket': 5.0,\n",
       " 'Rob Roy': 5.0,\n",
       " 'Canadian Bacon': 5.0,\n",
       " 'Desperado': 5.0}"
      ]
     },
     "execution_count": 43,
     "metadata": {},
     "output_type": "execute_result"
    }
   ],
   "source": [
    "movies_ratings.top_by_ratings(5, 'median')"
   ]
  },
  {
   "cell_type": "code",
   "execution_count": 44,
   "id": "099cb1d8-a7af-4019-9ab6-8c6a3b2a111e",
   "metadata": {},
   "outputs": [
    {
     "name": "stdout",
     "output_type": "stream",
     "text": [
      "75.2 ms ± 2.8 ms per loop (mean ± std. dev. of 7 runs, 10 loops each)\n"
     ]
    }
   ],
   "source": [
    "%%timeit\n",
    "movies_ratings.top_by_ratings(5, 'median')"
   ]
  },
  {
   "cell_type": "markdown",
   "id": "f25cd2bb-4b05-41b2-9965-8a591b902373",
   "metadata": {},
   "source": [
    "#### В ходе выполнения метода top_by_ratings() можно получить топ фильмов по рейтингу в зависимости от определенной метрики. К примеру, топ 5 по медианному рейтингу "
   ]
  },
  {
   "cell_type": "code",
   "execution_count": 45,
   "id": "f71256d9-fd18-410b-8296-2ee248b91c47",
   "metadata": {},
   "outputs": [
    {
     "data": {
      "text/plain": [
       "{'My Fair Lady': 10.12,\n",
       " 'Courage Under Fire': 6.12,\n",
       " \"Schindler's List\": 4.56,\n",
       " 'Dazed and Confused': 4.5,\n",
       " 'Circle of Friends': 4.5}"
      ]
     },
     "execution_count": 45,
     "metadata": {},
     "output_type": "execute_result"
    }
   ],
   "source": [
    "movies_ratings.top_controversial(5)"
   ]
  },
  {
   "cell_type": "code",
   "execution_count": 46,
   "id": "46dbf1da-8ef2-4082-bdd2-09f479e73159",
   "metadata": {},
   "outputs": [
    {
     "name": "stdout",
     "output_type": "stream",
     "text": [
      "131 ms ± 1.53 ms per loop (mean ± std. dev. of 7 runs, 10 loops each)\n"
     ]
    }
   ],
   "source": [
    "%%timeit\n",
    "movies_ratings.top_controversial(5)"
   ]
  },
  {
   "cell_type": "markdown",
   "id": "108b11ec-d445-4aa0-ab94-37c8e1cad366",
   "metadata": {},
   "source": [
    "#### В ходе выполнения метода top_controversial() можно получить топ лучших фильмов по дисперсии рейтингов. К примеру исходя из работы метода можем увидеть, что фильм 'My Fair Lady' имеет значение 10.12"
   ]
  },
  {
   "cell_type": "markdown",
   "id": "0d7beb18-b83e-4504-a5bb-8270e6c8f13a",
   "metadata": {
    "jp-MarkdownHeadingCollapsed": true
   },
   "source": [
    "## Методы класса Users(Movies)"
   ]
  },
  {
   "cell_type": "code",
   "execution_count": 47,
   "id": "af632ce9-ca7a-4807-a01b-70c5113c4ba9",
   "metadata": {},
   "outputs": [
    {
     "data": {
      "text/plain": [
       "{'6': 314, '1': 232, '4': 216, '7': 126, '5': 44}"
      ]
     },
     "execution_count": 47,
     "metadata": {},
     "output_type": "execute_result"
    }
   ],
   "source": [
    "users.user_by_num_of_ratings(5)"
   ]
  },
  {
   "cell_type": "code",
   "execution_count": 48,
   "id": "e7d377c4-119e-4a3d-957b-2d842b7446b2",
   "metadata": {},
   "outputs": [
    {
     "name": "stdout",
     "output_type": "stream",
     "text": [
      "264 μs ± 11.9 μs per loop (mean ± std. dev. of 7 runs, 1,000 loops each)\n"
     ]
    }
   ],
   "source": [
    "%%timeit\n",
    "users.user_by_num_of_ratings(5)"
   ]
  },
  {
   "cell_type": "markdown",
   "id": "a78ecf65-602d-4bce-a4ea-ce93680941cf",
   "metadata": {},
   "source": [
    "#### В ходе выполнения метода user_by_num_of_ratings() можно получить распределение пользователей по количеству выставленных ими оценок. Исходя из работы метода можно увидеть, что пользователь с userId равным 6 поставил 314 оценок"
   ]
  },
  {
   "cell_type": "code",
   "execution_count": 49,
   "id": "ad968aa9-ad72-4fcb-948b-a97b11cfecc6",
   "metadata": {},
   "outputs": [
    {
     "data": {
      "text/plain": [
       "{'2': 70350.28, '3': 7058.38, '7': 4790.09, '4': 1982.13, '1': 1854.6}"
      ]
     },
     "execution_count": 49,
     "metadata": {},
     "output_type": "execute_result"
    }
   ],
   "source": [
    "users.user_by_ratings(5)"
   ]
  },
  {
   "cell_type": "code",
   "execution_count": 50,
   "id": "6d965156-260d-49fb-a284-5544bf4c5266",
   "metadata": {},
   "outputs": [
    {
     "name": "stdout",
     "output_type": "stream",
     "text": [
      "485 μs ± 21.6 μs per loop (mean ± std. dev. of 7 runs, 1,000 loops each)\n"
     ]
    }
   ],
   "source": [
    "%%timeit\n",
    "users.user_by_ratings(5)"
   ]
  },
  {
   "cell_type": "markdown",
   "id": "48753055-e33f-4953-91e5-9aaf7e0cf928",
   "metadata": {},
   "source": [
    "#### В ходе выполнения метода user_by_ratings() можно получить распределение пользователей по средним или медианным оценкам, выставленным ими. Исходя из работы метода можно увидеть, что пользователь с userId равным 2 имеет среднюю медианную оценку равную 70350.28"
   ]
  },
  {
   "cell_type": "code",
   "execution_count": 51,
   "id": "4bb3c373-95d5-4ffd-92ef-8c0f4a5dc2ff",
   "metadata": {},
   "outputs": [
    {
     "data": {
      "text/plain": [
       "{'3': 4.37, '4': 1.73, '7': 1.67, '5': 0.98, '6': 0.72}"
      ]
     },
     "execution_count": 51,
     "metadata": {},
     "output_type": "execute_result"
    }
   ],
   "source": [
    "users.user_controversial(5)"
   ]
  },
  {
   "cell_type": "code",
   "execution_count": 52,
   "id": "9ecf3b12-5995-466f-a3e9-f19bc3149312",
   "metadata": {},
   "outputs": [
    {
     "name": "stdout",
     "output_type": "stream",
     "text": [
      "726 μs ± 6.03 μs per loop (mean ± std. dev. of 7 runs, 1,000 loops each)\n"
     ]
    }
   ],
   "source": [
    "%%timeit\n",
    "users.user_controversial(5)"
   ]
  },
  {
   "cell_type": "markdown",
   "id": "f7969c0f-e2a3-494a-8b2a-2e6014abeea7",
   "metadata": {},
   "source": [
    "#### В ходе выполнения метода user_controversial() можно получить пользователей с наибольшей разницей в рейтингах. Исходя из работы метода можно увидеть, что пользователь с userId равным 3 имеет наибольшую разницу в оценках, равную 4.37"
   ]
  }
 ],
 "metadata": {
  "kernelspec": {
   "display_name": "Python 3",
   "language": "python",
   "name": "python3"
  },
  "language_info": {
   "codemirror_mode": {
    "name": "ipython",
    "version": 3
   },
   "file_extension": ".py",
   "mimetype": "text/x-python",
   "name": "python",
   "nbconvert_exporter": "python",
   "pygments_lexer": "ipython3",
   "version": "3.13.2"
  }
 },
 "nbformat": 4,
 "nbformat_minor": 5
}
